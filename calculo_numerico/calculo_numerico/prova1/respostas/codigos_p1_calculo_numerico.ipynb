{
  "nbformat": 4,
  "nbformat_minor": 0,
  "metadata": {
    "colab": {
      "provenance": [],
      "toc_visible": true
    },
    "kernelspec": {
      "name": "python3",
      "display_name": "Python 3"
    },
    "language_info": {
      "name": "python"
    }
  },
  "cells": [
    {
      "cell_type": "markdown",
      "source": [
        "# Questão 3"
      ],
      "metadata": {
        "id": "pE_Uj5O03zSk"
      }
    },
    {
      "cell_type": "code",
      "source": [
        "# TESTE DE INTERVALOS - [0,1]\n",
        "\n",
        "def newton_zeros_polinomios():\n",
        "\n",
        "    a = [2, -5, -35, 7]\n",
        "\n",
        "    d = [6, -10, -35]\n",
        "\n",
        "    x0 = 0.0\n",
        "    tolerancia = 0.001\n",
        "    x_i = x0\n",
        "    passo = 1\n",
        "\n",
        "    print(\"Resultados intermediários:\")\n",
        "    while True:\n",
        "        #REAliza os calculos do processo\n",
        "        b = [0.0] * len(a)\n",
        "        b[0] = a[0]\n",
        "        for i in range(1, len(a)):\n",
        "            b[i] = a[i] + b[i-1] * x_i\n",
        "        P = b[-1]\n",
        "\n",
        "\n",
        "        c = [0.0] * len(d)\n",
        "        c[0] = d[0]\n",
        "        for i in range(1, len(d)):\n",
        "            c[i] = d[i] + c[i-1] * x_i\n",
        "        Pd = c[-1]\n",
        "\n",
        "\n",
        "        x_i_plus_1 = x_i - P / Pd\n",
        "        erro = abs(x_i_plus_1 - x_i)\n",
        "\n",
        "\n",
        "        print(f\"\\n| Passo {passo} | \\( x_i = \\) {x_i:.3f} |\")\n",
        "        print(\"|---|---|---|---|\")\n",
        "        print(f\"| {b[0]:.3f} | {b[1]:.3f} | {b[2]:.3f} | {b[3]:.3f} (P) |\")\n",
        "\n",
        "        c_display = [0.0, d[0], c[1]]\n",
        "        print(f\"| {c_display[0]:.3f} | {c_display[1]:.3f} | {c_display[2]:.3f} (P') |\")\n",
        "        print(f\"| \\( x_{{i+1}} = \\) {x_i_plus_1:.3f} | Erro = {erro:.3f} |\")\n",
        "\n",
        "        if erro < tolerancia:\n",
        "            break\n",
        "\n",
        "        x_i = x_i_plus_1\n",
        "        passo += 1\n",
        "\n",
        "    print(\"\\nResultado final:\")\n",
        "    print(f\"| \\( x = \\) {x_i:.3f} | \\( P(x) = \\) {P:.3f} |\")\n",
        "\n",
        "newton_zeros_polinomios()"
      ],
      "metadata": {
        "colab": {
          "base_uri": "https://localhost:8080/"
        },
        "id": "M6Q6zQsa225z",
        "outputId": "be7c2925-4a48-47a1-d3b9-e783a896a12f"
      },
      "execution_count": 11,
      "outputs": [
        {
          "output_type": "stream",
          "name": "stdout",
          "text": [
            "------------------------------------------------------------------------------------------------\n",
            " Passo |   xi    |   b3    |   b2    |   b1    |  b0 (P)  |   c3    |   c2    | c1 (P')  | x(i+1)  |  Erro   |\n",
            "------------------------------------------------------------------------------------------------\n",
            "   1   |  0.000  |  2.000  | -5.000  | -35.000 |  7.000   |  2.000  | -5.000  | -35.000  |  0.200  |  0.200  |\n",
            "   2   |  0.200  |  2.000  | -4.600  | -35.920 |  -0.184  |  2.000  | -4.200  | -36.760  |  0.195  |  0.005  |\n",
            "   3   |  0.195  |  2.000  | -4.610  | -35.899 |  -0.000  |  2.000  | -4.220  | -36.722  |  0.195  |  0.000  |\n",
            "------------------------------------------------------------------------------------------------\n",
            "\n",
            "Convergência alcançada após 3 iterações.\n",
            "\n",
            "Resultado final:\n",
            "x = 0.195\n",
            "P(x) = -0.000\n"
          ]
        }
      ]
    },
    {
      "cell_type": "code",
      "source": [
        "# TESTE DE INTERVALOS - [5,6]\n",
        "\n",
        "def newton_zeros_polinomios():\n",
        "\n",
        "    a = [2, -5, -35, 7]\n",
        "\n",
        "    d = [6, -10, -35]\n",
        "\n",
        "    x0 = 0.0\n",
        "    tolerancia = 0.001\n",
        "    x_i = x0\n",
        "    passo = 1\n",
        "\n",
        "    print(\"Resultados intermediários:\")\n",
        "    while True:\n",
        "\n",
        "        b = [0.0] * len(a)\n",
        "        b[0] = a[0]\n",
        "        for i in range(1, len(a)):\n",
        "            b[i] = a[i] + b[i-1] * x_i\n",
        "        P = b[-1]\n",
        "\n",
        "\n",
        "        c = [0.0] * len(d)\n",
        "        c[0] = d[0]\n",
        "        for i in range(1, len(d)):\n",
        "            c[i] = d[i] + c[i-1] * x_i # leva em conta os passos anteriores\n",
        "        Pd = c[-1]\n",
        "\n",
        "\n",
        "        x_i_plus_1 = x_i - P / Pd\n",
        "        erro = abs(x_i_plus_1 - x_i)\n",
        "\n",
        "\n",
        "        #print(f\"\\n| Passo {passo} | \\( x_i = \\) {x_i:.3f} |\")\n",
        "        #print(\"|---|---|---|---|\")\n",
        "        #print(f\"| {b[0]:.3f} | {b[1]:.3f} | {b[2]:.3f} | {b[3]:.3f} (P) |\")\n",
        "\n",
        "        c_display = [0.0, d[0], c[1]]\n",
        "        #print(f\"| {c_display[0]:.3f} | {c_display[1]:.3f} | {c_display[2]:.3f} (P') |\")\n",
        "        #print(f\"| \\( x_{{i+1}} = \\) {x_i_plus_1:.3f} | Erro = {erro:.3f} |\")\n",
        "\n",
        "        if erro < tolerancia:\n",
        "            break\n",
        "\n",
        "        x_i = x_i_plus_1\n",
        "        passo += 1\n",
        "\n",
        "    print(\"\\nResultado final:\")\n",
        "    print(f\"| \\( x = \\) {x_i:.3f} | \\( P(x) = \\) {P:.3f} |\")\n",
        "\n",
        "newton_zeros_polinomios()"
      ],
      "metadata": {
        "colab": {
          "base_uri": "https://localhost:8080/"
        },
        "id": "jw_2X4zU3lvd",
        "outputId": "12a58c2a-1102-4187-f524-2551d4ce84e1"
      },
      "execution_count": 12,
      "outputs": [
        {
          "output_type": "stream",
          "name": "stdout",
          "text": [
            "------------------------------------------------------------------------------------------------\n",
            " Passo |   xi    |   b3    |   b2    |   b1    |  b0 (P)  |   c3    |   c2    | c1 (P')  | x(i+1)  |  Erro   |\n",
            "------------------------------------------------------------------------------------------------\n",
            "   1   |  5.000  |  2.000  |  5.000  | -10.000 | -43.000  |  2.000  | 15.000  |  65.000  |  5.662  |  0.662  |\n",
            "   2   |  5.662  |  2.000  |  6.323  |  0.798  |  11.520  |  2.000  | 17.646  | 100.703  |  5.547  |  0.114  |\n",
            "   3   |  5.547  |  2.000  |  6.094  | -1.194  |  0.376   |  2.000  | 17.189  |  94.153  |  5.543  |  0.004  |\n",
            "   4   |  5.543  |  2.000  |  6.086  | -1.263  |  0.000   |  2.000  | 17.173  |  93.928  |  5.543  |  0.000  |\n",
            "------------------------------------------------------------------------------------------------\n",
            "\n",
            "Convergência alcançada após 4 iterações.\n",
            "\n",
            "Resultado final:\n",
            "x = 5.543\n",
            "P(x) = 0.000\n"
          ]
        }
      ]
    }
  ]
}