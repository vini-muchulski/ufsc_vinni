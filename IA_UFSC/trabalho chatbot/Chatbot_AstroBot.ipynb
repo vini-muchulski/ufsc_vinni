{
  "cells": [
    {
      "cell_type": "markdown",
      "source": [
        "# teste json astronomia"
      ],
      "metadata": {
        "id": "pXCpin_40bi0"
      },
      "id": "pXCpin_40bi0"
    },
    {
      "cell_type": "code",
      "source": [
        "!pip install chatterbot chatterbot_corpus spacy==3.7.4 -q\n",
        "!python -m spacy download pt_core_news_sm -q"
      ],
      "metadata": {
        "colab": {
          "base_uri": "https://localhost:8080/"
        },
        "id": "48tYG2NK0gkM",
        "outputId": "046ae586-8187-495f-b889-6abc02433cdd"
      },
      "id": "48tYG2NK0gkM",
      "execution_count": null,
      "outputs": [
        {
          "output_type": "stream",
          "name": "stdout",
          "text": [
            "\u001b[2K     \u001b[90m━━━━━━━━━━━━━━━━━━━━━━━━━━━━━━━━━━━━━━━\u001b[0m \u001b[32m61.0/61.0 kB\u001b[0m \u001b[31m645.3 kB/s\u001b[0m eta \u001b[36m0:00:00\u001b[0m\n",
            "\u001b[2K   \u001b[90m━━━━━━━━━━━━━━━━━━━━━━━━━━━━━━━━━━━━━━━━\u001b[0m \u001b[32m6.6/6.6 MB\u001b[0m \u001b[31m60.4 MB/s\u001b[0m eta \u001b[36m0:00:00\u001b[0m\n",
            "\u001b[2K   \u001b[90m━━━━━━━━━━━━━━━━━━━━━━━━━━━━━━━━━━━━━━━━\u001b[0m \u001b[32m65.6/65.6 kB\u001b[0m \u001b[31m5.8 MB/s\u001b[0m eta \u001b[36m0:00:00\u001b[0m\n",
            "\u001b[2K   \u001b[90m━━━━━━━━━━━━━━━━━━━━━━━━━━━━━━━━━━━━━━━━\u001b[0m \u001b[32m240.5/240.5 kB\u001b[0m \u001b[31m17.5 MB/s\u001b[0m eta \u001b[36m0:00:00\u001b[0m\n",
            "\u001b[2K   \u001b[90m━━━━━━━━━━━━━━━━━━━━━━━━━━━━━━━━━━━━━━━━\u001b[0m \u001b[32m229.9/229.9 kB\u001b[0m \u001b[31m15.5 MB/s\u001b[0m eta \u001b[36m0:00:00\u001b[0m\n",
            "\u001b[2K   \u001b[90m━━━━━━━━━━━━━━━━━━━━━━━━━━━━━━━━━━━━━━━━\u001b[0m \u001b[32m57.0/57.0 kB\u001b[0m \u001b[31m4.3 MB/s\u001b[0m eta \u001b[36m0:00:00\u001b[0m\n",
            "\u001b[2K   \u001b[90m━━━━━━━━━━━━━━━━━━━━━━━━━━━━━━━━━━━━━━━━\u001b[0m \u001b[32m920.2/920.2 kB\u001b[0m \u001b[31m43.5 MB/s\u001b[0m eta \u001b[36m0:00:00\u001b[0m\n",
            "\u001b[2K   \u001b[90m━━━━━━━━━━━━━━━━━━━━━━━━━━━━━━━━━━━━━━━━\u001b[0m \u001b[32m18.3/18.3 MB\u001b[0m \u001b[31m54.8 MB/s\u001b[0m eta \u001b[36m0:00:00\u001b[0m\n",
            "\u001b[2K   \u001b[90m━━━━━━━━━━━━━━━━━━━━━━━━━━━━━━━━━━━━━━━━\u001b[0m \u001b[32m46.0/46.0 kB\u001b[0m \u001b[31m3.1 MB/s\u001b[0m eta \u001b[36m0:00:00\u001b[0m\n",
            "\u001b[2K   \u001b[90m━━━━━━━━━━━━━━━━━━━━━━━━━━━━━━━━━━━━━━━━\u001b[0m \u001b[32m50.1/50.1 kB\u001b[0m \u001b[31m3.9 MB/s\u001b[0m eta \u001b[36m0:00:00\u001b[0m\n",
            "\u001b[2K   \u001b[90m━━━━━━━━━━━━━━━━━━━━━━━━━━━━━━━━━━━━━━━━\u001b[0m \u001b[32m10.2/10.2 MB\u001b[0m \u001b[31m76.9 MB/s\u001b[0m eta \u001b[36m0:00:00\u001b[0m\n",
            "\u001b[2K   \u001b[90m━━━━━━━━━━━━━━━━━━━━━━━━━━━━━━━━━━━━━━━━\u001b[0m \u001b[32m45.0/45.0 kB\u001b[0m \u001b[31m2.7 MB/s\u001b[0m eta \u001b[36m0:00:00\u001b[0m\n",
            "\u001b[2K     \u001b[90m━━━━━━━━━━━━━━━━━━━━━━━━━━━━━━━━━━━━━━━━\u001b[0m \u001b[32m13.0/13.0 MB\u001b[0m \u001b[31m93.0 MB/s\u001b[0m eta \u001b[36m0:00:00\u001b[0m\n",
            "\u001b[?25h\u001b[38;5;2m✔ Download and installation successful\u001b[0m\n",
            "You can now load the package via spacy.load('pt_core_news_sm')\n",
            "\u001b[38;5;3m⚠ Restart to reload dependencies\u001b[0m\n",
            "If you are in a Jupyter or Colab notebook, you may need to restart Python in\n",
            "order to load all the package's dependencies. You can do this by selecting the\n",
            "'Restart kernel' or 'Restart runtime' option.\n"
          ]
        }
      ]
    },
    {
      "cell_type": "markdown",
      "source": [
        "--------------------"
      ],
      "metadata": {
        "id": "ycYCrpVwAri4"
      },
      "id": "ycYCrpVwAri4"
    },
    {
      "cell_type": "code",
      "source": [
        "import os\n",
        "os.environ['TF_ENABLE_ONEDNN_OPTS'] = '0'\n",
        "\n",
        "import json\n",
        "from chatterbot import ChatBot\n",
        "from chatterbot.trainers import ListTrainer\n",
        "from chatterbot.languages import POR"
      ],
      "metadata": {
        "id": "phf0bo1D0s6_"
      },
      "id": "phf0bo1D0s6_",
      "execution_count": null,
      "outputs": []
    },
    {
      "cell_type": "code",
      "source": [
        "nome_arquivo_json = 'perguntas_astronomia_langchain.json'\n",
        "conversa_para_treino = []\n",
        "\n",
        "try:\n",
        "    with open(nome_arquivo_json, 'r', encoding='utf-8') as f:\n",
        "        dados_json = json.load(f)\n",
        "\n",
        "    for item in dados_json:\n",
        "        if 'pergunta' in item and 'resposta' in item:\n",
        "            conversa_para_treino.append(item['pergunta'])\n",
        "            conversa_para_treino.append(item['resposta'])\n",
        "        else:\n",
        "            print(f\"Aviso: Item inválido no JSON (sem 'pergunta' ou 'resposta'): {item}\")\n",
        "\n",
        "except FileNotFoundError:\n",
        "    print(f\"Erro: Arquivo '{nome_arquivo_json}' não encontrado.\")\n",
        "    print(\"Certifique-se de que o arquivo JSON está no mesmo diretório que o script.\")\n",
        "    exit()\n",
        "except json.JSONDecodeError:\n",
        "    print(f\"Erro: O arquivo '{nome_arquivo_json}' não contém um JSON válido.\")\n",
        "    exit()\n",
        "except Exception as e:\n",
        "    print(f\"Ocorreu um erro inesperado ao ler o JSON: {e}\")\n",
        "    exit()\n",
        "\n",
        "if not conversa_para_treino:\n",
        "    print(\"Erro: Nenhum dado válido encontrado no JSON para treinamento.\")\n",
        "    exit()"
      ],
      "metadata": {
        "id": "dsKWttr6I8HZ"
      },
      "id": "dsKWttr6I8HZ",
      "execution_count": null,
      "outputs": []
    },
    {
      "cell_type": "code",
      "source": [
        "chatbot_astro = ChatBot(\n",
        "    \"BotAstronomico\",\n",
        "    storage_adapter='chatterbot.storage.SQLStorageAdapter',\n",
        "    database_uri='sqlite:///db_astronomia.sqlite3',\n",
        "    logic_adapters=[\n",
        "        {\n",
        "            'import_path': 'chatterbot.logic.BestMatch',\n",
        "            'default_response': 'Desculpe, não entendi bem. Poderia reformular?',\n",
        "            'maximum_similarity_threshold': 0.9\n",
        "        },\n",
        "    ],\n",
        "    tagger_language=POR\n",
        ")\n",
        "\n",
        "trainer_astro = ListTrainer(chatbot_astro) #json file trainer\n",
        "print(f\"Iniciando treinamento com {len(conversa_para_treino) // 2} pares de pergunta/resposta...\")\n",
        "trainer_astro.train(conversa_para_treino)\n",
        "print(\"Treinamento concluído!\")"
      ],
      "metadata": {
        "colab": {
          "base_uri": "https://localhost:8080/"
        },
        "id": "UeW4Dd63JRDN",
        "outputId": "a5b1f308-c055-46d4-aa9f-099a9891e763"
      },
      "id": "UeW4Dd63JRDN",
      "execution_count": null,
      "outputs": [
        {
          "output_type": "stream",
          "name": "stdout",
          "text": [
            "Iniciando treinamento com 541 pares de pergunta/resposta...\n",
            "List Trainer: [####################] 100%\n",
            "Treinamento concluído!\n"
          ]
        }
      ]
    },
    {
      "cell_type": "code",
      "source": [
        "print(\"\\nOlá! Sou o Bot Astronômico. Pergunte-me algo sobre astronomia (digite 'parar' para sair).\")\n",
        "while True:\n",
        "    try:\n",
        "        mensagem = input(\"Você: \")\n",
        "        if mensagem.lower() == \"parar\":\n",
        "            print(\"Bot: Até a próxima!\")\n",
        "            break\n",
        "        resposta = chatbot_astro.get_response(mensagem, read_only=True)\n",
        "        print(f\"Bot: {resposta}\")\n",
        "    except (KeyboardInterrupt, EOFError):\n",
        "        print(\"\\nBot: Encerrando...\")\n",
        "        break\n",
        "    except Exception as e:\n",
        "        print(f\"Ocorreu um erro inesperado durante a conversa: {e}\")\n",
        "        break\n",
        "\n"
      ],
      "metadata": {
        "colab": {
          "base_uri": "https://localhost:8080/"
        },
        "id": "dd3Nh50T-V1f",
        "outputId": "2d4bda3f-453d-4f52-b24a-beaf09c6f7e8"
      },
      "id": "dd3Nh50T-V1f",
      "execution_count": null,
      "outputs": [
        {
          "output_type": "stream",
          "name": "stdout",
          "text": [
            "\n",
            "Olá! Sou o Bot Astronômico. Pergunte-me algo sobre astronomia (digite 'parar' para sair).\n",
            "Você: o que é estrela?\n",
            "Bot: Desculpe, não entendi bem. Poderia reformular?\n",
            "Você: Sol\n",
            "Bot: Em cerca de 5 bilhões de anos, o Sol se expandirá para uma gigante vermelha, engolindo os planetas internos. Depois, ejetará suas camadas externas (formando uma nebulosa planetária) e seu núcleo se tornará uma anã branca, que esfriará lentamente.\n",
            "Você: Júpiter \n",
            "Bot: Atualmente, Júpiter tem 95 luas confirmadas. Esse número pode mudar à medida que novas luas são descobertas. As quatro maiores luas, conhecidas como luas galileanas (Io, Europa, Ganímedes e Calisto), foram descobertas por Galileu Galilei em 1610.\n",
            "Você: Saturno \n",
            "Bot: Os anéis de Saturno são compostos principalmente por incontáveis partículas de gelo de água, com uma quantidade menor de poeira e material rochoso. Essas partículas variam em tamanho, desde grãos microscópicos até pedaços do tamanho de montanhas. Embora pareçam sólidos vistos da Terra, são na verdade um sistema complexo e dinâmico de pequenas luas e fragmentos orbitando o planeta.\n",
            "Você: Vênus\n",
            "Bot: Ambos os planetas têm efeito estufa, mas em Vênus ele é descontrolado. Sua atmosfera extremamente densa, composta quase totalmente de dióxido de carbono, retém uma quantidade imensa de calor, elevando a temperatura superficial a mais de 460°C (mais quente que Mercúrio). Na Terra, o efeito estufa é moderado pelos níveis mais baixos de gases estufa, mantendo temperaturas adequadas para a água líquida e a vida.\n",
            "Você: atmosfera\n",
            "Bot: Mercúrio possui uma atmosfera extremamente tênue, chamada exosfera. Ela é composta principalmente por átomos expelidos da superfície do planeta pelo vento solar e impactos de micrometeoritos. Os principais componentes incluem oxigênio, sódio, hidrogênio, hélio e potássio. Essa exosfera é tão rarefeita que é considerada um vácuo quase perfeito.\n",
            "Você: Lua\n",
            "Bot: Desculpe, não entendi bem. Poderia reformular?\n",
            "Você: programa Apollo \n",
            "Bot: A missão Apollo 11, lançada pela NASA em julho de 1969, foi um marco histórico monumental para a humanidade. Seu objetivo principal e maior feito foi realizar o primeiro pouso tripulado na Lua. Em 20 de julho de 1969, os astronautas Neil Armstrong e Buzz Aldrin se tornaram os primeiros seres humanos a caminhar na superfície lunar, enquanto Michael Collins orbitava a Lua no Módulo de Comando. Além do feito tecnológico e exploratório sem precedentes, a missão representou o ápice da 'Corrida Espacial' entre os Estados Unidos e a União Soviética, demonstrou avanços incríveis em engenharia e ciência, e inspirou gerações em todo o mundo, unindo as pessoas em um momento de admiração pela capacidade humana.\n",
            "\n",
            "Bot: Encerrando...\n"
          ]
        }
      ]
    },
    {
      "cell_type": "code",
      "source": [
        "\"\"\"from chatterbot.trainers import ChatterBotCorpusTrainer\n",
        "trainer_astro = ChatterBotCorpusTrainer(chatbot_astro)\n",
        "trainer_astro.train(\"/content/perguntas_astronomia_langchain.json\")\"\"\""
      ],
      "metadata": {
        "colab": {
          "base_uri": "https://localhost:8080/",
          "height": 335
        },
        "id": "iq5icp65soku",
        "outputId": "ff5a7aca-fcbc-4a5b-ef8b-753e21d30b97"
      },
      "id": "iq5icp65soku",
      "execution_count": null,
      "outputs": [
        {
          "output_type": "error",
          "ename": "AttributeError",
          "evalue": "'list' object has no attribute 'get'",
          "traceback": [
            "\u001b[0;31m---------------------------------------------------------------------------\u001b[0m",
            "\u001b[0;31mAttributeError\u001b[0m                            Traceback (most recent call last)",
            "\u001b[0;32m<ipython-input-5-a82017c5e170>\u001b[0m in \u001b[0;36m<cell line: 0>\u001b[0;34m()\u001b[0m\n\u001b[1;32m      1\u001b[0m \u001b[0;32mfrom\u001b[0m \u001b[0mchatterbot\u001b[0m\u001b[0;34m.\u001b[0m\u001b[0mtrainers\u001b[0m \u001b[0;32mimport\u001b[0m \u001b[0mChatterBotCorpusTrainer\u001b[0m\u001b[0;34m\u001b[0m\u001b[0;34m\u001b[0m\u001b[0m\n\u001b[1;32m      2\u001b[0m \u001b[0mtrainer_astro\u001b[0m \u001b[0;34m=\u001b[0m \u001b[0mChatterBotCorpusTrainer\u001b[0m\u001b[0;34m(\u001b[0m\u001b[0mchatbot_astro\u001b[0m\u001b[0;34m)\u001b[0m\u001b[0;34m\u001b[0m\u001b[0;34m\u001b[0m\u001b[0m\n\u001b[0;32m----> 3\u001b[0;31m \u001b[0mtrainer_astro\u001b[0m\u001b[0;34m.\u001b[0m\u001b[0mtrain\u001b[0m\u001b[0;34m(\u001b[0m\u001b[0;34m\"/content/perguntas_astronomia_langchain.json\"\u001b[0m\u001b[0;34m)\u001b[0m\u001b[0;34m\u001b[0m\u001b[0;34m\u001b[0m\u001b[0m\n\u001b[0m",
            "\u001b[0;32m/usr/local/lib/python3.11/dist-packages/chatterbot/trainers.py\u001b[0m in \u001b[0;36mtrain\u001b[0;34m(self, *corpus_paths)\u001b[0m\n\u001b[1;32m    135\u001b[0m             \u001b[0mdata_file_paths\u001b[0m\u001b[0;34m.\u001b[0m\u001b[0mextend\u001b[0m\u001b[0;34m(\u001b[0m\u001b[0mlist_corpus_files\u001b[0m\u001b[0;34m(\u001b[0m\u001b[0mcorpus_path\u001b[0m\u001b[0;34m)\u001b[0m\u001b[0;34m)\u001b[0m\u001b[0;34m\u001b[0m\u001b[0;34m\u001b[0m\u001b[0m\n\u001b[1;32m    136\u001b[0m \u001b[0;34m\u001b[0m\u001b[0m\n\u001b[0;32m--> 137\u001b[0;31m         \u001b[0;32mfor\u001b[0m \u001b[0mcorpus\u001b[0m\u001b[0;34m,\u001b[0m \u001b[0mcategories\u001b[0m\u001b[0;34m,\u001b[0m \u001b[0mfile_path\u001b[0m \u001b[0;32min\u001b[0m \u001b[0mload_corpus\u001b[0m\u001b[0;34m(\u001b[0m\u001b[0;34m*\u001b[0m\u001b[0mdata_file_paths\u001b[0m\u001b[0;34m)\u001b[0m\u001b[0;34m:\u001b[0m\u001b[0;34m\u001b[0m\u001b[0;34m\u001b[0m\u001b[0m\n\u001b[0m\u001b[1;32m    138\u001b[0m \u001b[0;34m\u001b[0m\u001b[0m\n\u001b[1;32m    139\u001b[0m             \u001b[0mstatements_to_create\u001b[0m \u001b[0;34m=\u001b[0m \u001b[0;34m[\u001b[0m\u001b[0;34m]\u001b[0m\u001b[0;34m\u001b[0m\u001b[0;34m\u001b[0m\u001b[0m\n",
            "\u001b[0;32m/usr/local/lib/python3.11/dist-packages/chatterbot/corpus.py\u001b[0m in \u001b[0;36mload_corpus\u001b[0;34m(*data_file_paths)\u001b[0m\n\u001b[1;32m     84\u001b[0m         \u001b[0mcorpus_data\u001b[0m \u001b[0;34m=\u001b[0m \u001b[0mread_corpus\u001b[0m\u001b[0;34m(\u001b[0m\u001b[0mfile_path\u001b[0m\u001b[0;34m)\u001b[0m\u001b[0;34m\u001b[0m\u001b[0;34m\u001b[0m\u001b[0m\n\u001b[1;32m     85\u001b[0m \u001b[0;34m\u001b[0m\u001b[0m\n\u001b[0;32m---> 86\u001b[0;31m         \u001b[0mconversations\u001b[0m \u001b[0;34m=\u001b[0m \u001b[0mcorpus_data\u001b[0m\u001b[0;34m.\u001b[0m\u001b[0mget\u001b[0m\u001b[0;34m(\u001b[0m\u001b[0;34m'conversations'\u001b[0m\u001b[0;34m,\u001b[0m \u001b[0;34m[\u001b[0m\u001b[0;34m]\u001b[0m\u001b[0;34m)\u001b[0m\u001b[0;34m\u001b[0m\u001b[0;34m\u001b[0m\u001b[0m\n\u001b[0m\u001b[1;32m     87\u001b[0m         \u001b[0mcorpus\u001b[0m\u001b[0;34m.\u001b[0m\u001b[0mextend\u001b[0m\u001b[0;34m(\u001b[0m\u001b[0mconversations\u001b[0m\u001b[0;34m)\u001b[0m\u001b[0;34m\u001b[0m\u001b[0;34m\u001b[0m\u001b[0m\n\u001b[1;32m     88\u001b[0m \u001b[0;34m\u001b[0m\u001b[0m\n",
            "\u001b[0;31mAttributeError\u001b[0m: 'list' object has no attribute 'get'"
          ]
        }
      ]
    }
  ],
  "metadata": {
    "kernelspec": {
      "display_name": "Python 3",
      "language": "python",
      "name": "python3"
    },
    "language_info": {
      "codemirror_mode": {
        "name": "ipython",
        "version": 3
      },
      "file_extension": ".py",
      "mimetype": "text/x-python",
      "name": "python",
      "nbconvert_exporter": "python",
      "pygments_lexer": "ipython3",
      "version": "3.6.13"
    },
    "colab": {
      "provenance": []
    }
  },
  "nbformat": 4,
  "nbformat_minor": 5
}