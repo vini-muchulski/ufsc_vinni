{
  "nbformat": 4,
  "nbformat_minor": 0,
  "metadata": {
    "colab": {
      "provenance": []
    },
    "kernelspec": {
      "name": "python3",
      "display_name": "Python 3"
    },
    "language_info": {
      "name": "python"
    }
  },
  "cells": [
    {
      "cell_type": "code",
      "source": [
        "!pip install langchain-google-genai  -q"
      ],
      "metadata": {
        "id": "1veNO7LEbT7V",
        "colab": {
          "base_uri": "https://localhost:8080/"
        },
        "outputId": "8fccd94a-05f6-48a8-bfa7-ab1198d9c161"
      },
      "execution_count": null,
      "outputs": [
        {
          "output_type": "stream",
          "name": "stdout",
          "text": [
            "\u001b[?25l   \u001b[90m━━━━━━━━━━━━━━━━━━━━━━━━━━━━━━━━━━━━━━━━\u001b[0m \u001b[32m0.0/42.0 kB\u001b[0m \u001b[31m?\u001b[0m eta \u001b[36m-:--:--\u001b[0m\r\u001b[2K   \u001b[90m━━━━━━━━━━━━━━━━━━━━━━━━━━━━━━━━━━━━━━━━\u001b[0m \u001b[32m42.0/42.0 kB\u001b[0m \u001b[31m1.4 MB/s\u001b[0m eta \u001b[36m0:00:00\u001b[0m\n",
            "\u001b[?25h\u001b[?25l   \u001b[90m━━━━━━━━━━━━━━━━━━━━━━━━━━━━━━━━━━━━━━━━\u001b[0m \u001b[32m0.0/1.4 MB\u001b[0m \u001b[31m?\u001b[0m eta \u001b[36m-:--:--\u001b[0m\r\u001b[2K   \u001b[91m━━━━━━━━━━━━━\u001b[0m\u001b[90m╺\u001b[0m\u001b[90m━━━━━━━━━━━━━━━━━━━━━━━━━━\u001b[0m \u001b[32m0.5/1.4 MB\u001b[0m \u001b[31m14.6 MB/s\u001b[0m eta \u001b[36m0:00:01\u001b[0m\r\u001b[2K   \u001b[91m━━━━━━━━━━━━━━━━━━━━━━━━━━━━━━━━━━━━━━━\u001b[0m\u001b[91m╸\u001b[0m \u001b[32m1.4/1.4 MB\u001b[0m \u001b[31m24.5 MB/s\u001b[0m eta \u001b[36m0:00:01\u001b[0m\r\u001b[2K   \u001b[90m━━━━━━━━━━━━━━━━━━━━━━━━━━━━━━━━━━━━━━━━\u001b[0m \u001b[32m1.4/1.4 MB\u001b[0m \u001b[31m18.2 MB/s\u001b[0m eta \u001b[36m0:00:00\u001b[0m\n",
            "\u001b[?25h\u001b[31mERROR: pip's dependency resolver does not currently take into account all the packages that are installed. This behaviour is the source of the following dependency conflicts.\n",
            "google-generativeai 0.8.4 requires google-ai-generativelanguage==0.6.15, but you have google-ai-generativelanguage 0.6.17 which is incompatible.\u001b[0m\u001b[31m\n",
            "\u001b[0m"
          ]
        }
      ]
    },
    {
      "cell_type": "markdown",
      "source": [
        "# envio do arquivo como contexto"
      ],
      "metadata": {
        "id": "pjiIcPNMhMm6"
      }
    },
    {
      "cell_type": "code",
      "source": [
        "import google.generativeai as genai\n",
        "import time\n",
        "import json\n",
        "import os\n",
        "\n",
        "from langchain_google_genai import ChatGoogleGenerativeAI\n",
        "from langchain_core.prompts import ChatPromptTemplate\n",
        "from langchain_core.output_parsers import JsonOutputParser\n",
        "from langchain_core.pydantic_v1 import BaseModel, Field\n",
        "from typing import List\n",
        "\n",
        "\n",
        "\n",
        "from google.colab import userdata\n",
        "apiKey = userdata.get('GEMINI_API_KEY')\n",
        "print(\"Chave API carregada do Colab Userdata.\")\n",
        "\n",
        "genai.configure(api_key=apiKey)\n",
        "\n"
      ],
      "metadata": {
        "colab": {
          "base_uri": "https://localhost:8080/"
        },
        "id": "ufFavVEzi_da",
        "outputId": "112bac30-1a08-4e9c-fb8a-43741fcba2b6"
      },
      "execution_count": null,
      "outputs": [
        {
          "output_type": "stream",
          "name": "stderr",
          "text": [
            "/usr/local/lib/python3.11/dist-packages/IPython/core/interactiveshell.py:3553: LangChainDeprecationWarning: As of langchain-core 0.3.0, LangChain uses pydantic v2 internally. The langchain_core.pydantic_v1 module was a compatibility shim for pydantic v1, and should no longer be used. Please update the code to import from Pydantic directly.\n",
            "\n",
            "For example, replace imports like: `from langchain_core.pydantic_v1 import BaseModel`\n",
            "with: `from pydantic import BaseModel`\n",
            "or the v1 compatibility namespace if you are working in a code base that has not been fully upgraded to pydantic 2 yet. \tfrom pydantic.v1 import BaseModel\n",
            "\n",
            "  exec(code_obj, self.user_global_ns, self.user_ns)\n"
          ]
        },
        {
          "output_type": "stream",
          "name": "stdout",
          "text": [
            "Chave API carregada do Colab Userdata.\n"
          ]
        }
      ]
    },
    {
      "cell_type": "code",
      "source": [
        "class PerguntaResposta(BaseModel):\n",
        "    pergunta: str = Field(description=\"Uma pergunta sobre astronomia.\")\n",
        "    resposta: str = Field(description=\"Uma resposta detalhada e educativa para a pergunta.\")\n",
        "\n",
        "arquivo_json = \"perguntas_astronomia_langchain.json\"\n",
        "perguntas_existentes_lista = []\n",
        "dados_existentes = []\n",
        "\n",
        "if os.path.exists(arquivo_json):\n",
        "    try:\n",
        "        with open(arquivo_json, \"r\", encoding=\"utf-8\") as arquivo:\n",
        "            dados_existentes = json.load(arquivo)\n",
        "        if isinstance(dados_existentes, list):\n",
        "            perguntas_existentes_lista = [item.get(\"pergunta\", \"\") for item in dados_existentes if item.get(\"pergunta\")]\n",
        "            print(f\"Carregadas {len(perguntas_existentes_lista)} perguntas existentes do arquivo.\")\n",
        "        else:\n",
        "            print(f\"Aviso: Arquivo '{arquivo_json}' não contém uma lista JSON válida. Começando sem histórico.\")\n",
        "            dados_existentes = []\n",
        "    except json.JSONDecodeError:\n",
        "        print(f\"Aviso: Não foi possível decodificar JSON do arquivo existente '{arquivo_json}'. Começando sem histórico.\")\n",
        "        dados_existentes = []\n",
        "    except Exception as e:\n",
        "         print(f\"Erro ao ler o arquivo existente '{arquivo_json}': {e}. Começando sem histórico.\")\n",
        "         dados_existentes = []\n",
        "else:\n",
        "    print(f\"Arquivo '{arquivo_json}' não encontrado. Gerando as primeiras perguntas.\")"
      ],
      "metadata": {
        "colab": {
          "base_uri": "https://localhost:8080/"
        },
        "id": "TGXlF4KojJS7",
        "outputId": "ae7f5262-c4b6-49ca-b4e9-70e6b76677ee"
      },
      "execution_count": null,
      "outputs": [
        {
          "output_type": "stream",
          "name": "stdout",
          "text": [
            "Carregadas 421 perguntas existentes do arquivo.\n"
          ]
        }
      ]
    },
    {
      "cell_type": "code",
      "source": [
        "MAX_PERGUNTAS_NO_PROMPT = 500\n",
        "perguntas_para_prompt = \"\\n\".join(f\"- {p}\" for p in perguntas_existentes_lista[:MAX_PERGUNTAS_NO_PROMPT])\n",
        "if not perguntas_para_prompt:\n",
        "    perguntas_para_prompt = \"Nenhuma pergunta existente fornecida.\"\n",
        "\n",
        "#(model_name=\"models/gemini-2.5-pro-exp-03-25\") # models/gemini-2.5-pro-preview-03-25     models/gemini-2.0-flash\n",
        "\n",
        "llm = ChatGoogleGenerativeAI(\n",
        "    model=\"gemini-2.5-pro-exp-03-25\",\n",
        "    google_api_key=apiKey,\n",
        "    temperature=0.5,\n",
        "    request_options={\"timeout\": 600}\n",
        ")\n",
        "\n",
        "texto_template_prompt = \"\"\"\n",
        "**Role:**\n",
        "Você é um assistente especializado em gerar dados sintéticos realistas sobre astronomia, especificamente perguntas e respostas educativas destinadas ao público geral interessado em astronomia.\n",
        "\n",
        "**Contexto:**\n",
        "O objetivo é expandir uma base de conhecimento existente para treinar modelos de linguagem. Queremos adicionar perguntas novas e interessantes que complementem as que já temos.\n",
        "\n",
        "**Perguntas Existentes:**\n",
        "Aqui estão algumas perguntas que já existem na nossa base de dados:\n",
        "{perguntas_existentes}```\n",
        "\n",
        "Instructions:\n",
        "Gere um conjunto de 10 NOVAS perguntas e respostas sobre astronomia, planetas, luas, astronáutica ou exploração espacial.\n",
        "CRÍTICO: As perguntas geradas devem ser DIFERENTES das perguntas listadas na seção \"Perguntas Existentes\". Evite repetir os mesmos tópicos ou perguntas formuladas de maneira muito similar.\n",
        "Tente gerar perguntas que COMPLEMENTEM os tópicos existentes, explorando facetas diferentes ou relacionadas aos temas gerais da astronomia e exploração espacial.\n",
        "As perguntas devem variar em complexidade.\n",
        "As respostas devem ser educativas, precisas e fáceis de entender.\n",
        "Formato OBRIGATÓRIO: Gere o conteúdo APENAS no formato JSON. O JSON deve ser uma lista de objetos, onde cada objeto tem as chaves \"pergunta\" e \"resposta\". Não inclua nenhuma introdução, explicação ou markdown json antes ou depois do JSON puro.\n",
        "Exemplo de Saída Esperada (APENAS O JSON):\n",
        "[\n",
        "{{\n",
        "\"pergunta\": \"Como as auroras boreais são formadas?\",\n",
        "\"resposta\": \"As auroras são causadas por partículas carregadas (elétrons e prótons) do Sol, trazidas pelo vento solar, que colidem com gases na alta atmosfera da Terra (principalmente oxigênio e nitrogênio). Essas colisões excitam os átomos dos gases, que liberam energia na forma de luz colorida.\"\n",
        "}},\n",
        "{{\n",
        "\"pergunta\": \"O que é a matéria escura e por que os cientistas acreditam que ela existe?\",\n",
        "\"resposta\": \"Matéria escura é uma forma hipotética de matéria que não interage com a luz (é invisível), mas exerce gravidade. Os cientistas inferem sua existência observando seus efeitos gravitacionais em galáxias e aglomerados de galáxias, como a velocidade de rotação das galáxias, que é maior do que seria esperado apenas com a matéria visível.\"\n",
        "}}\n",
        "]\n",
        "Tarefa:\n",
        "Gere 20 NOVAS perguntas e respostas sobre estrelas, a Lua, a Terra, o sistema solar, astronomia , os planetas do sistema solar em detalhes, luas, astronáutica ou exploração espacial que COMPLEMENTEM a lista fornecida, seguindo ESTRITAMENTE o formato JSON de lista de objetos.\n",
        "Evite perguntas com respostas sim ou não, foque em perguntas explicativas.\n",
        "\"\"\""
      ],
      "metadata": {
        "id": "zkpLOhN1hPHv"
      },
      "execution_count": null,
      "outputs": []
    },
    {
      "cell_type": "code",
      "source": [
        "prompt = ChatPromptTemplate.from_template(texto_template_prompt)\n",
        "parser = JsonOutputParser(pydantic_object=PerguntaResposta)\n",
        "chain = prompt | llm | parser"
      ],
      "metadata": {
        "id": "_yYTUHtQhoSM"
      },
      "execution_count": null,
      "outputs": []
    },
    {
      "cell_type": "code",
      "source": [
        "prompt"
      ],
      "metadata": {
        "colab": {
          "base_uri": "https://localhost:8080/"
        },
        "id": "Cw8JAZ08jfMZ",
        "outputId": "2c2b5205-dbae-446d-bae2-97ab87a9c6cf"
      },
      "execution_count": null,
      "outputs": [
        {
          "output_type": "execute_result",
          "data": {
            "text/plain": [
              "ChatPromptTemplate(input_variables=['perguntas_existentes'], input_types={}, partial_variables={}, messages=[HumanMessagePromptTemplate(prompt=PromptTemplate(input_variables=['perguntas_existentes'], input_types={}, partial_variables={}, template='\\n**Role:**\\nVocê é um assistente especializado em gerar dados sintéticos realistas sobre astronomia, especificamente perguntas e respostas educativas destinadas ao público geral interessado em astronomia.\\n\\n**Contexto:**\\nO objetivo é expandir uma base de conhecimento existente para treinar modelos de linguagem. Queremos adicionar perguntas novas e interessantes que complementem as que já temos.\\n\\n**Perguntas Existentes:**\\nAqui estão algumas perguntas que já existem na nossa base de dados:\\n{perguntas_existentes}```\\n\\nInstructions:\\nGere um conjunto de 10 NOVAS perguntas e respostas sobre astronomia, planetas, luas, astronáutica ou exploração espacial.\\nCRÍTICO: As perguntas geradas devem ser DIFERENTES das perguntas listadas na seção \"Perguntas Existentes\". Evite repetir os mesmos tópicos ou perguntas formuladas de maneira muito similar.\\nTente gerar perguntas que COMPLEMENTEM os tópicos existentes, explorando facetas diferentes ou relacionadas aos temas gerais da astronomia e exploração espacial.\\nAs perguntas devem variar em complexidade.\\nAs respostas devem ser educativas, precisas e fáceis de entender.\\nFormato OBRIGATÓRIO: Gere o conteúdo APENAS no formato JSON. O JSON deve ser uma lista de objetos, onde cada objeto tem as chaves \"pergunta\" e \"resposta\". Não inclua nenhuma introdução, explicação ou markdown json antes ou depois do JSON puro.\\nExemplo de Saída Esperada (APENAS O JSON):\\n[\\n{{\\n\"pergunta\": \"Como as auroras boreais são formadas?\",\\n\"resposta\": \"As auroras são causadas por partículas carregadas (elétrons e prótons) do Sol, trazidas pelo vento solar, que colidem com gases na alta atmosfera da Terra (principalmente oxigênio e nitrogênio). Essas colisões excitam os átomos dos gases, que liberam energia na forma de luz colorida.\"\\n}},\\n{{\\n\"pergunta\": \"O que é a matéria escura e por que os cientistas acreditam que ela existe?\",\\n\"resposta\": \"Matéria escura é uma forma hipotética de matéria que não interage com a luz (é invisível), mas exerce gravidade. Os cientistas inferem sua existência observando seus efeitos gravitacionais em galáxias e aglomerados de galáxias, como a velocidade de rotação das galáxias, que é maior do que seria esperado apenas com a matéria visível.\"\\n}}\\n]\\nTarefa:\\nGere 20 NOVAS perguntas e respostas sobre estrelas, a Lua, a Terra, o sistema solar, astronomia , os planetas do sistema solar em detalhes, luas, astronáutica ou exploração espacial que COMPLEMENTEM a lista fornecida, seguindo ESTRITAMENTE o formato JSON de lista de objetos.\\nEvite perguntas com respostas sim ou não, foque em perguntas explicativas. \\n'), additional_kwargs={})])"
            ]
          },
          "metadata": {},
          "execution_count": 50
        }
      ]
    },
    {
      "cell_type": "code",
      "source": [
        "print(\"Realizando requisição para o LLM via Langchain com contexto de perguntas existentes...\")\n",
        "novos_dados = []\n",
        "\n",
        "try:\n",
        "  start_time = time.time()\n",
        "  dados_resposta = chain.invoke({\"perguntas_existentes\": perguntas_para_prompt})\n",
        "  end_time = time.time()\n",
        "\n",
        "  print(f\"Chamada ao LLM levou {end_time - start_time:.2f} segundos.\")\n",
        "\n",
        "  if isinstance(dados_resposta, list):\n",
        "     novos_dados = dados_resposta\n",
        "     perguntas_novas_set = {item.get(\"pergunta\", \"\").strip().lower() for item in novos_dados if item.get(\"pergunta\")}\n",
        "     perguntas_existentes_set = {p.strip().lower() for p in perguntas_existentes_lista}\n",
        "     duplicatas_geradas = perguntas_novas_set.intersection(perguntas_existentes_set)\n",
        "     if duplicatas_geradas:\n",
        "         print(f\"Aviso: O LLM gerou {len(duplicatas_geradas)} perguntas que já existiam, apesar da instrução.\")\n",
        "\n",
        "  else:\n",
        "    print(\"Aviso: Os dados parseados não são uma lista. Verificando a saída do LLM e o parser.\")\n",
        "    if dados_resposta:\n",
        "         if isinstance(dados_resposta, dict) and \"pergunta\" in dados_resposta:\n",
        "             novos_dados = [dados_resposta]\n",
        "             print(\"Aviso: Tratado como lista de um item.\")\n",
        "\n",
        "\n",
        "except Exception as e:\n",
        "  print(f\"Erro durante a execução da cadeia Langchain ou parsing: {e}\")\n",
        "\n"
      ],
      "metadata": {
        "colab": {
          "base_uri": "https://localhost:8080/"
        },
        "id": "nRvRsx_Khs20",
        "outputId": "c9d4b13c-0ba1-4fe3-fc31-af99cb80964e"
      },
      "execution_count": null,
      "outputs": [
        {
          "output_type": "stream",
          "name": "stdout",
          "text": [
            "Realizando requisição para o LLM via Langchain com contexto de perguntas existentes...\n",
            "Chamada ao LLM levou 84.83 segundos.\n"
          ]
        }
      ]
    },
    {
      "cell_type": "code",
      "source": [
        "novos_dados"
      ],
      "metadata": {
        "colab": {
          "base_uri": "https://localhost:8080/"
        },
        "id": "1uxaXc7yi75X",
        "outputId": "1a0f63e3-dd85-445a-d89d-1bbf99ac9936"
      },
      "execution_count": null,
      "outputs": [
        {
          "output_type": "execute_result",
          "data": {
            "text/plain": [
              "[{'pergunta': 'Como a missão Rosetta ajudou a entender os cometas?',\n",
              "  'resposta': 'A missão Rosetta da ESA orbitou o cometa 67P/Churyumov-Gerasimenko por mais de dois anos e pousou o módulo Philae em sua superfície. Ela estudou a composição do núcleo, a liberação de gás e poeira (atividade) conforme o cometa se aproximava do Sol, e analisou a coma e a cauda. Isso revelou informações cruciais sobre a composição primitiva do Sistema Solar, incluindo a presença de moléculas orgânicas complexas e a relação isotópica da água cometária.'},\n",
              " {'pergunta': 'Qual a diferença entre a zona radiativa e a zona convectiva no interior do Sol?',\n",
              "  'resposta': 'A zona radiativa é uma região densa acima do núcleo solar onde a energia da fusão é transportada para fora principalmente por fótons (radiação). Acima dela, na zona convectiva, o plasma é menos denso e mais frio no topo; o material quente sobe, esfria e desce, transportando energia por movimentos de convecção, similar à fervura da água. Essa convecção é responsável por fenômenos na superfície solar, como as granulações.'},\n",
              " {'pergunta': 'O que são meteoritos condritos e por que são tão valiosos para a ciência planetária?',\n",
              "  'resposta': \"Condritos são meteoritos rochosos primitivos que não sofreram derretimento ou diferenciação significativa desde sua formação, há cerca de 4,6 bilhões de anos. Eles contêm côndrulos (pequenas esferas de silicato) e preservam a composição química da nebulosa solar original, sendo considerados os 'blocos de construção' dos planetas rochosos e fornecendo pistas diretas sobre a formação do Sistema Solar.\"},\n",
              " {'pergunta': \"O que é o 'seeing' atmosférico e como ele afeta as observações astronômicas do solo?\",\n",
              "  'resposta': \"O 'seeing' atmosférico refere-se à turbulência na atmosfera da Terra que causa a cintilação das estrelas e borra as imagens obtidas por telescópios terrestres. Bolsões de ar com diferentes temperaturas e densidades refratam a luz das estrelas de forma irregular e variável, limitando a nitidez (resolução angular) das observações, mesmo com telescópios de grande porte. É por isso que telescópios espaciais obtêm imagens mais nítidas.\"},\n",
              " {'pergunta': 'Qual a hipótese mais provável para a origem das luas de Marte, Fobos e Deimos?',\n",
              "  'resposta': 'A origem de Fobos e Deimos ainda é debatida. A hipótese clássica é que seriam asteroides do Cinturão Principal capturados pela gravidade de Marte, o que explicaria suas formas irregulares. No entanto, suas órbitas quase circulares e equatoriais são difíceis de explicar por captura. Uma hipótese alternativa, ganhando força, sugere que se formaram a partir de um disco de detritos gerado por um grande impacto em Marte no passado.'},\n",
              " {'pergunta': 'O que é um coronógrafo e para que tipo de observação astronômica ele é utilizado?',\n",
              "  'resposta': 'Um coronógrafo é um instrumento óptico acoplado a um telescópio que bloqueia a luz direta e intensa de um objeto central brilhante (como uma estrela) para permitir a observação de estruturas ou objetos muito mais tênues ao seu redor. É essencial para estudar a coroa solar, discos circunstelares (onde planetas se formam) e para a detecção direta de exoplanetas, que seriam ofuscados pelo brilho de sua estrela hospedeira.'},\n",
              " {'pergunta': 'Como a técnica de espectroscopia de transmissão nos permite estudar a atmosfera de exoplanetas?',\n",
              "  'resposta': \"Quando um exoplaneta transita (passa na frente) de sua estrela, a luz da estrela atravessa a atmosfera do planeta antes de chegar a nós. Gases específicos na atmosfera do exoplaneta absorvem comprimentos de onda característicos da luz estelar. Ao comparar o espectro da luz da estrela durante e fora do trânsito, os astrônomos podem identificar essas 'assinaturas' de absorção e determinar quais gases (como vapor d'água, metano, etc.) estão presentes na atmosfera do exoplaneta.\"},\n",
              " {'pergunta': \"O que significa 'equilíbrio hidrostático' e qual sua importância na classificação de corpos celestes?\",\n",
              "  'resposta': \"Equilíbrio hidrostático é o estado alcançado por um corpo celeste quando sua autogravidade é forte o suficiente para superar a rigidez do material e puxá-lo para uma forma aproximadamente esférica ou elipsoidal. É um critério fundamental na definição de 'planeta' e 'planeta anão' pela União Astronômica Internacional (UAI), distinguindo-os de corpos menores e de formato irregular, como a maioria dos asteroides e cometas.\"},\n",
              " {'pergunta': 'Qual o principal objetivo da missão Juno da NASA em Júpiter?',\n",
              "  'resposta': 'A missão Juno tem como objetivo principal investigar a origem e evolução de Júpiter. Para isso, ela estuda a composição atmosférica (especialmente a abundância de água), mapeia seus campos gravitacional e magnético para inferir a estrutura interna (incluindo a existência de um núcleo denso), explora a poderosa magnetosfera e as intensas auroras polares, buscando entender como o maior planeta do Sistema Solar se formou.'},\n",
              " {'pergunta': 'Como a contagem de crateras de impacto é usada para estimar a idade de superfícies planetárias?',\n",
              "  'resposta': 'O princípio é que uma superfície exposta ao espaço acumula crateras de impacto ao longo do tempo; quanto mais velha a superfície, mais crateras ela terá (assumindo uma taxa de impacto relativamente constante ao longo de grandes períodos). Ao contar a densidade de crateras (número de crateras por unidade de área) de diferentes tamanhos e compará-la com modelos calibrados pela datação de amostras lunares, os cientistas podem estimar a idade relativa ou até absoluta daquela superfície.'},\n",
              " {'pergunta': \"O que são as 'Nuvens Noctilucentes' e por que são um fenômeno atmosférico incomum?\",\n",
              "  'resposta': 'Nuvens noctilucentes (NLCs), ou nuvens polares mesosféricas, são formações de cristais de gelo extremamente tênues e de alta altitude (cerca de 80 km, na mesosfera). Elas são as nuvens mais altas da atmosfera terrestre e só são visíveis durante o crepúsculo profundo em altas latitudes (acima de 50°) durante os meses de verão, quando o Sol abaixo do horizonte ainda ilumina essa camada atmosférica. Sua ocorrência parece estar aumentando, possivelmente ligada a mudanças climáticas.'},\n",
              " {'pergunta': \"Como a radioastronomia consegue 'enxergar' através de nuvens de poeira interestelar que bloqueiam a luz visível?\",\n",
              "  'resposta': \"As ondas de rádio possuem comprimentos de onda muito mais longos que os da luz visível. As pequenas partículas de poeira interestelar, que são eficazes em espalhar e absorver a luz visível (causando 'extinção'), são praticamente transparentes para essas ondas de rádio mais longas. Isso permite que os radiotelescópios detectem emissões de rádio de regiões obscurecidas, como o centro da Via Láctea ou o interior de densas nuvens moleculares onde estrelas se formam.\"},\n",
              " {'pergunta': \"O que define a 'Linha de Kármán' e qual a sua relevância prática?\",\n",
              "  'resposta': 'A Linha de Kármán é uma fronteira conceitual localizada a 100 quilômetros (62 milhas) acima do nível médio do mar da Terra, convencionalmente usada para definir o limite entre a atmosfera terrestre e o espaço sideral. Acima desta altitude, a atmosfera é tão rarefeita que a sustentação aerodinâmica se torna insignificante, e um veículo precisa operar como uma espaçonave (usando velocidade orbital ou propulsão de foguete). Ela é usada como referência para recordes de altitude e na legislação espacial.'},\n",
              " {'pergunta': 'Qual foi a importância das missões Viking da NASA na exploração de Marte nos anos 1970?',\n",
              "  'resposta': 'As missões Viking 1 e 2 (1976) foram as primeiras a pousar com sucesso espaçonaves em Marte capazes de realizar experimentos biológicos complexos em busca de vida microbiana no solo. Embora os resultados dos experimentos de vida tenham sido inconclusivos e sejam hoje interpretados como provavelmente não-biológicos, as missões forneceram as primeiras imagens detalhadas da superfície, análises químicas do solo e dados meteorológicos, revolucionando nosso entendimento de Marte.'},\n",
              " {'pergunta': 'Como os cientistas utilizam o decaimento radioativo para determinar a idade de rochas lunares e meteoritos?',\n",
              "  'resposta': \"Rochas contêm isótopos radioativos instáveis (como Urânio-238, Potássio-40) que decaem em isótopos estáveis (como Chumbo-206, Argônio-40) a uma taxa constante e conhecida (meia-vida). Ao medir com precisão as quantidades relativas dos isótopos 'pai' (radioativo) e 'filho' (produto do decaimento) em uma amostra de rocha lunar ou meteorito, os cientistas podem calcular há quanto tempo o sistema se fechou e o decaimento começou, determinando assim a idade da rocha.\"},\n",
              " {'pergunta': 'Qual foi o objetivo principal da missão DART (Double Asteroid Redirection Test) da NASA?',\n",
              "  'resposta': \"O objetivo da missão DART foi testar a viabilidade da técnica de 'impacto cinético' para desviar um asteroide, como parte da defesa planetária da Terra. A espaçonave DART colidiu intencionalmente com Dimorphos, a pequena lua do asteroide Didymos, para medir a alteração causada em sua órbita. Foi a primeira demonstração em escala real de que podemos alterar o movimento de um corpo celeste no espaço, caso um asteroide ameaçador seja descoberto no futuro.\"},\n",
              " {'pergunta': 'Além da Lua, como o Sol contribui para as marés na Terra?',\n",
              "  'resposta': 'O Sol também exerce uma força de maré sobre a Terra, embora seja menos da metade da força exercida pela Lua devido à sua maior distância. Quando o Sol, a Terra e a Lua estão alinhados (luas nova e cheia), as forças de maré solar e lunar se combinam, resultando em marés mais altas e mais baixas (marés de sizígia ou vivas). Quando o Sol e a Lua formam um ângulo de 90° com a Terra (quartos crescente e minguante), suas forças se contrapõem parcialmente, resultando em marés menos extremas (marés de quadratura ou mortas).'},\n",
              " {'pergunta': 'Como as diferentes camadas da atmosfera terrestre (troposfera, estratosfera, etc.) nos protegem?',\n",
              "  'resposta': 'Cada camada tem um papel protetor: a troposfera dispersa parte da radiação solar e contém o clima; a estratosfera abriga a camada de ozônio, que absorve a maior parte da radiação ultravioleta (UV-B e UV-C) prejudicial do Sol; a mesosfera queima a maioria dos meteoroides que entram; a termosfera absorve raios-X e UV de alta energia do Sol; e a magnetosfera (influenciada pela ionosfera na termosfera) desvia a maior parte do vento solar e partículas cósmicas carregadas.'},\n",
              " {'pergunta': 'De que maneira a imensa gravidade de Júpiter afeta o Cinturão de Asteroides?',\n",
              "  'resposta': \"A gravidade de Júpiter tem uma influência profunda no Cinturão de Asteroides. Primeiro, acredita-se que ela impediu que o material do cinturão se aglutinasse para formar um planeta completo. Segundo, ela cria 'ressonâncias orbitais' que varrem asteroides de certas regiões (as Lacunas de Kirkwood). Terceiro, ela pode perturbar as órbitas dos asteroides, ejetando alguns para fora do Sistema Solar ou enviando outros para o Sistema Solar interior, onde podem se tornar ameaças potenciais à Terra.\"},\n",
              " {'pergunta': \"O que são 'Observatórios Virtuais' em astronomia e qual a sua utilidade?\",\n",
              "  'resposta': 'Observatórios Virtuais (VOs) são iniciativas e ferramentas online que reúnem vastas quantidades de dados astronômicos de diferentes telescópios (terrestres e espaciais) e missões, em diversos comprimentos de onda. Eles permitem que astrônomos (e o público) acessem, visualizem, cruzem e analisem esses dados de forma integrada, sem precisar realizar novas observações, facilitando a pesquisa científica, a descoberta de novos padrões e a educação.'}]"
            ]
          },
          "metadata": {},
          "execution_count": 52
        }
      ]
    },
    {
      "cell_type": "code",
      "source": [
        "arquivo_json = \"perguntas_astronomia_langchain.json\"\n",
        "perguntas_existentes_lista = []\n",
        "dados_existentes = []\n",
        "\n",
        "if os.path.exists(arquivo_json):\n",
        "    try:\n",
        "        with open(arquivo_json, \"r\", encoding=\"utf-8\") as arquivo:\n",
        "            dados_existentes = json.load(arquivo)\n",
        "        if isinstance(dados_existentes, list):\n",
        "            perguntas_existentes_lista = [item.get(\"pergunta\", \"\") for item in dados_existentes if item.get(\"pergunta\")]\n",
        "            print(f\"Carregadas {len(perguntas_existentes_lista)} perguntas existentes do arquivo.\")\n",
        "        else:\n",
        "            print(f\"Aviso: Arquivo '{arquivo_json}' não contém uma lista JSON válida. Começando sem histórico.\")\n",
        "            dados_existentes = []\n",
        "    except json.JSONDecodeError:\n",
        "        print(f\"Aviso: Não foi possível decodificar JSON do arquivo existente '{arquivo_json}'. Começando sem histórico.\")\n",
        "        dados_existentes = []\n",
        "    except Exception as e:\n",
        "         print(f\"Erro ao ler o arquivo existente '{arquivo_json}': {e}. Começando sem histórico.\")\n",
        "         dados_existentes = []\n",
        "else:\n",
        "    print(f\"Arquivo '{arquivo_json}' não encontrado. Gerando as primeiras perguntas.\")"
      ],
      "metadata": {
        "colab": {
          "base_uri": "https://localhost:8080/"
        },
        "id": "fd0gIi2qx5u7",
        "outputId": "e5858e28-b100-4ca0-9d13-985cfcb11e2c"
      },
      "execution_count": null,
      "outputs": [
        {
          "output_type": "stream",
          "name": "stdout",
          "text": [
            "Carregadas 521 perguntas existentes do arquivo.\n"
          ]
        }
      ]
    },
    {
      "cell_type": "code",
      "source": [
        "\n",
        "print(f\"Gerados e parseados com sucesso {len(novos_dados)} novos pares de P&R.\")\n",
        "dados_atualizados = dados_existentes + novos_dados\n",
        "print(f\"Total após combinação (pode conter duplicatas): {len(dados_atualizados)} perguntas\")\n",
        "\n",
        "\n",
        "try:\n",
        "        with open(arquivo_json, \"w\", encoding=\"utf-8\") as arquivo:\n",
        "            json.dump(dados_atualizados, arquivo, ensure_ascii=False, indent=2)\n",
        "\n",
        "        print(f\"Arquivo '{arquivo_json}' atualizado com sucesso com {len(dados_atualizados)} perguntas (incluindo possíveis duplicatas)!\")\n",
        "        if dados_atualizados:\n",
        "             # Mostra a última pergunta adicionada, que pode ser uma duplicata\n",
        "             print(f\"Última pergunta adicionada: {dados_atualizados[-1].get('pergunta', 'N/A')}\")\n",
        "except Exception as e:\n",
        "        print(f\"Erro ao escrever no arquivo JSON: {e}\")\n",
        "\n"
      ],
      "metadata": {
        "colab": {
          "base_uri": "https://localhost:8080/"
        },
        "id": "RTxLiGg5iozI",
        "outputId": "04e0aff0-5320-43dd-c705-0d806549af8d"
      },
      "execution_count": null,
      "outputs": [
        {
          "output_type": "stream",
          "name": "stdout",
          "text": [
            "Gerados e parseados com sucesso 20 novos pares de P&R.\n",
            "Total após combinação (pode conter duplicatas): 541 perguntas\n",
            "Arquivo 'perguntas_astronomia_langchain.json' atualizado com sucesso com 541 perguntas (incluindo possíveis duplicatas)!\n",
            "Última pergunta adicionada: O que são 'Observatórios Virtuais' em astronomia e qual a sua utilidade?\n"
          ]
        }
      ]
    },
    {
      "cell_type": "code",
      "source": [
        "len(dados_atualizados)"
      ],
      "metadata": {
        "colab": {
          "base_uri": "https://localhost:8080/"
        },
        "id": "kT3po5-kwsBc",
        "outputId": "2bc6f963-f985-4499-eae6-6ff03b92bf80"
      },
      "execution_count": null,
      "outputs": [
        {
          "output_type": "execute_result",
          "data": {
            "text/plain": [
              "541"
            ]
          },
          "metadata": {},
          "execution_count": 55
        }
      ]
    }
  ]
}