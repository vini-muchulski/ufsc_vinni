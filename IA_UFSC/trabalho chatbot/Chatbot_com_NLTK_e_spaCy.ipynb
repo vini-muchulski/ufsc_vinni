{
  "nbformat": 4,
  "nbformat_minor": 0,
  "metadata": {
    "colab": {
      "provenance": []
    },
    "kernelspec": {
      "name": "python3",
      "display_name": "Python 3"
    },
    "language_info": {
      "name": "python"
    }
  },
  "cells": [
    {
      "cell_type": "markdown",
      "source": [
        "# main\n"
      ],
      "metadata": {
        "id": "tEnx2t_0aJWX"
      }
    },
    {
      "cell_type": "code",
      "source": [
        "!pip install nltk spacy scikit-learn -q"
      ],
      "metadata": {
        "id": "Sh2a-zQ9ZPx1"
      },
      "execution_count": null,
      "outputs": []
    },
    {
      "cell_type": "code",
      "source": [
        "!python -m spacy download pt_core_news_sm"
      ],
      "metadata": {
        "colab": {
          "base_uri": "https://localhost:8080/"
        },
        "id": "iyuTUB2Bkx8b",
        "outputId": "2640da02-0068-4b6f-a205-406aea96e93a"
      },
      "execution_count": null,
      "outputs": [
        {
          "output_type": "stream",
          "name": "stdout",
          "text": [
            "Collecting pt-core-news-sm==3.8.0\n",
            "  Downloading https://github.com/explosion/spacy-models/releases/download/pt_core_news_sm-3.8.0/pt_core_news_sm-3.8.0-py3-none-any.whl (13.0 MB)\n",
            "\u001b[2K     \u001b[90m━━━━━━━━━━━━━━━━━━━━━━━━━━━━━━━━━━━━━━━━\u001b[0m \u001b[32m13.0/13.0 MB\u001b[0m \u001b[31m81.3 MB/s\u001b[0m eta \u001b[36m0:00:00\u001b[0m\n",
            "\u001b[?25hInstalling collected packages: pt-core-news-sm\n",
            "Successfully installed pt-core-news-sm-3.8.0\n",
            "\u001b[38;5;2m✔ Download and installation successful\u001b[0m\n",
            "You can now load the package via spacy.load('pt_core_news_sm')\n",
            "\u001b[38;5;3m⚠ Restart to reload dependencies\u001b[0m\n",
            "If you are in a Jupyter or Colab notebook, you may need to restart Python in\n",
            "order to load all the package's dependencies. You can do this by selecting the\n",
            "'Restart kernel' or 'Restart runtime' option.\n"
          ]
        }
      ]
    },
    {
      "cell_type": "code",
      "source": [
        "!python -m nltk.download stopwords"
      ],
      "metadata": {
        "id": "xRnKoEiJUsch",
        "colab": {
          "base_uri": "https://localhost:8080/"
        },
        "outputId": "314880eb-5529-45f2-d0b6-cc0979758eac"
      },
      "execution_count": null,
      "outputs": [
        {
          "output_type": "stream",
          "name": "stdout",
          "text": [
            "/usr/bin/python3: No module named nltk.download\n"
          ]
        }
      ]
    },
    {
      "cell_type": "code",
      "source": [
        "import nltk\n",
        "nltk.download('rslp')"
      ],
      "metadata": {
        "colab": {
          "base_uri": "https://localhost:8080/"
        },
        "id": "CtgOTbd4Zpw7",
        "outputId": "7a3517ad-10fa-4c3e-fb64-1f8c03bd8277"
      },
      "execution_count": null,
      "outputs": [
        {
          "output_type": "stream",
          "name": "stderr",
          "text": [
            "[nltk_data] Downloading package rslp to /root/nltk_data...\n",
            "[nltk_data]   Unzipping stemmers/rslp.zip.\n"
          ]
        },
        {
          "output_type": "execute_result",
          "data": {
            "text/plain": [
              "True"
            ]
          },
          "metadata": {},
          "execution_count": 2
        }
      ]
    },
    {
      "cell_type": "code",
      "source": [
        "import nltk\n",
        "nltk.download('stopwords')"
      ],
      "metadata": {
        "colab": {
          "base_uri": "https://localhost:8080/"
        },
        "id": "_Su-pRp6T7KK",
        "outputId": "418d0c14-e771-482c-da97-598f37f4f259"
      },
      "execution_count": null,
      "outputs": [
        {
          "output_type": "stream",
          "name": "stderr",
          "text": [
            "[nltk_data] Downloading package stopwords to /root/nltk_data...\n",
            "[nltk_data]   Unzipping corpora/stopwords.zip.\n"
          ]
        },
        {
          "output_type": "execute_result",
          "data": {
            "text/plain": [
              "True"
            ]
          },
          "metadata": {},
          "execution_count": 3
        }
      ]
    },
    {
      "cell_type": "code",
      "source": [
        "import json\n",
        "import re\n",
        "import nltk\n",
        "from nltk.corpus import stopwords\n",
        "from nltk.stem import RSLPStemmer\n",
        "import spacy\n",
        "\n",
        "nlp = spacy.load(\"pt_core_news_sm\")\n",
        "\n",
        "with open(\"perguntas_astronomia_langchain.json\", \"r\", encoding=\"utf-8\") as f:\n",
        "    dados = json.load(f)\n",
        "\n",
        "perguntas = [item[\"pergunta\"] for item in dados]\n",
        "respostas = [item[\"resposta\"] for item in dados]"
      ],
      "metadata": {
        "id": "7XrFwDiOZWDl"
      },
      "execution_count": null,
      "outputs": []
    },
    {
      "cell_type": "code",
      "source": [
        "# Função de pré-processamento combinando NLTK e spaCy\n",
        "\n",
        "# Remover pontuação e converter para minúsculas (usando regex\n",
        "# Tokenização e lematização com spaCy\n",
        "\n",
        "# ReNover stopwords com NLTK\n",
        "# Stemming com NLTK"
      ],
      "metadata": {
        "id": "2fouNT1y_oiA"
      },
      "execution_count": null,
      "outputs": []
    },
    {
      "cell_type": "code",
      "source": [
        "def preprocessar(texto):\n",
        "\n",
        "    texto = re.sub(r'[^\\w\\s]', '', texto.lower())\n",
        "\n",
        "\n",
        "    doc = nlp(texto)\n",
        "    tokens = [token.lemma_ for token in doc]\n",
        "\n",
        "\n",
        "    stop_words = set(stopwords.words(\"portuguese\"))\n",
        "    tokens = [token for token in tokens if token not in stop_words]\n",
        "\n",
        "    stemmer = RSLPStemmer()\n",
        "    tokens = [stemmer.stem(token) for token in tokens]\n",
        "\n",
        "    return \" \".join(tokens)\n",
        "\n",
        "\n",
        "perguntas_processadas = [preprocessar(pergunta) for pergunta in perguntas]"
      ],
      "metadata": {
        "id": "bWfP9mYZnnzv"
      },
      "execution_count": null,
      "outputs": []
    },
    {
      "cell_type": "code",
      "source": [
        "from sklearn.feature_extraction.text import TfidfVectorizer\n",
        "from sklearn.metrics.pairwise import cosine_similarity\n",
        "\n",
        "vectorizer = TfidfVectorizer()\n",
        "X = vectorizer.fit_transform(perguntas_processadas)"
      ],
      "metadata": {
        "id": "42-wO7r0ZgEX"
      },
      "execution_count": null,
      "outputs": []
    },
    {
      "cell_type": "code",
      "source": [
        "def obter_resposta(pergunta):\n",
        "    pergunta_processada = preprocessar(pergunta)\n",
        "    vetor_pergunta = vectorizer.transform([pergunta_processada])\n",
        "\n",
        "    # Calcular similaridade com todas as perguntas\n",
        "    similaridades = cosine_similarity(vetor_pergunta, X)\n",
        "    indice_mais_similar = similaridades.argmax()\n",
        "\n",
        "    return respostas[indice_mais_similar]"
      ],
      "metadata": {
        "id": "XwVAAnSKo7P6"
      },
      "execution_count": null,
      "outputs": []
    },
    {
      "cell_type": "code",
      "source": [
        "pergunta_usuario = \" Fale sobre a formação da Lua.\"\n",
        "resposta = obter_resposta(pergunta_usuario)\n",
        "print(f\"Pergunta: {pergunta_usuario}\\nResposta: {resposta}\")"
      ],
      "metadata": {
        "colab": {
          "base_uri": "https://localhost:8080/"
        },
        "id": "t_2yIxTOUCuY",
        "outputId": "da66e8fd-8e3b-45bb-c4a9-7ef4b5894d13"
      },
      "execution_count": null,
      "outputs": [
        {
          "output_type": "stream",
          "name": "stdout",
          "text": [
            "Pergunta:  Fale sobre a formação da Lua.\n",
            "Resposta: A teoria mais aceita é a Hipótese do Grande Impacto. Ela sugere que um objeto do tamanho de Marte, chamado Theia, colidiu com a Terra primordial há cerca de 4,5 bilhões de anos. Os detritos dessa colisão entraram em órbita ao redor da Terra e eventualmente se aglutinaram para formar a Lua.\n"
          ]
        }
      ]
    },
    {
      "cell_type": "code",
      "source": [
        "pergunta_usuario = \"Por que a Lua tem fases?\"\n",
        "resposta = obter_resposta(pergunta_usuario)\n",
        "print(f\"Pergunta: {pergunta_usuario}\\nResposta: {resposta}\")"
      ],
      "metadata": {
        "colab": {
          "base_uri": "https://localhost:8080/"
        },
        "id": "NLESL6eMZxBV",
        "outputId": "5e074fe5-24d8-4384-fa80-e9ad27325858"
      },
      "execution_count": null,
      "outputs": [
        {
          "output_type": "stream",
          "name": "stdout",
          "text": [
            "Pergunta: Por que a Lua tem fases?\n",
            "Resposta: As fases da Lua são as diferentes aparências que a Lua apresenta vista da Terra ao longo de seu ciclo de aproximadamente 29,5 dias. Elas ocorrem porque a Lua reflete a luz do Sol e, conforme ela orbita a Terra, a porção iluminada pelo Sol que vemos daqui muda. As principais fases são: Lua Nova (não visível), Quarto Crescente, Lua Cheia (totalmente iluminada) e Quarto Minguante.\n"
          ]
        }
      ]
    },
    {
      "cell_type": "code",
      "source": [
        "pergunta_usuario = \"O que foi  o programa Apollo?\"\n",
        "resposta = obter_resposta(pergunta_usuario)\n",
        "print(f\"Pergunta: {pergunta_usuario}\\nResposta: {resposta}\")"
      ],
      "metadata": {
        "colab": {
          "base_uri": "https://localhost:8080/"
        },
        "id": "b3p7mERZZzju",
        "outputId": "fb2931cd-fe89-427d-928b-3f43f34f5517"
      },
      "execution_count": null,
      "outputs": [
        {
          "output_type": "stream",
          "name": "stdout",
          "text": [
            "Pergunta: O que foi  o programa Apollo?\n",
            "Resposta: O principal objetivo do Programa Apollo, conduzido pela NASA entre 1961 e 1972, foi pousar os primeiros humanos na Lua e retorná-los em segurança à Terra. Este objetivo foi estabelecido pelo presidente John F. Kennedy em 1961, em grande parte como resposta aos sucessos iniciais da União Soviética na exploração espacial (a 'Corrida Espacial'). O programa atingiu seu objetivo principal com a missão Apollo 11 em julho de 1969, e realizou um total de seis pousos lunares, avançando significativamente o conhecimento científico sobre a Lua e desenvolvendo tecnologias espaciais cruciais.\n"
          ]
        }
      ]
    },
    {
      "cell_type": "code",
      "source": [
        "pergunta_usuario = \"Fale sobre Marte?\"\n",
        "resposta = obter_resposta(pergunta_usuario)\n",
        "print(f\"Pergunta: {pergunta_usuario}\\nResposta: {resposta}\")"
      ],
      "metadata": {
        "colab": {
          "base_uri": "https://localhost:8080/"
        },
        "id": "9waYTfdEZ2VC",
        "outputId": "054c5b7a-0716-4934-c753-a12814b4416c"
      },
      "execution_count": null,
      "outputs": [
        {
          "output_type": "stream",
          "name": "stdout",
          "text": [
            "Pergunta: Fale sobre Marte?\n",
            "Resposta: A coloração avermelhada de Marte é devido à presença de óxido de ferro (ferrugem) na superfície. A atmosfera de Marte é muito fina, composta principalmente de dióxido de carbono, e possui temperaturas muito frias. A superfície marciana é marcada por grandes vulcões (como o Monte Olimpo, o maior vulcão do Sistema Solar), vastos cânions (como o Valles Marineris) e planícies de impacto. Evidências sugerem que Marte já teve água líquida em abundância no passado.\n"
          ]
        }
      ]
    },
    {
      "cell_type": "code",
      "source": [
        "pergunta_usuario = \"Fale sobre supernovas ?\"\n",
        "resposta = obter_resposta(pergunta_usuario)\n",
        "print(f\"Pergunta: {pergunta_usuario}\\nResposta: {resposta}\")"
      ],
      "metadata": {
        "colab": {
          "base_uri": "https://localhost:8080/"
        },
        "id": "ySlbNWitZ7tC",
        "outputId": "d6ae71f8-6109-40ae-939e-772439f40035"
      },
      "execution_count": null,
      "outputs": [
        {
          "output_type": "stream",
          "name": "stdout",
          "text": [
            "Pergunta: Fale sobre supernovas ?\n",
            "Resposta: Uma Supernova Tipo Ia ocorre quando uma anã branca em um sistema binário acumula matéria e explode. Uma Supernova Tipo II ocorre quando uma estrela massiva colapsa sob sua própria gravidade. Supernovas Tipo Ia têm brilho padrão, úteis para medir distâncias cósmicas.\n"
          ]
        }
      ]
    },
    {
      "cell_type": "code",
      "source": [
        "pergunta_usuario = \"o que é Saturno ?\" #\"Fale sobre Saturno?\"\n",
        "resposta = obter_resposta(pergunta_usuario)\n",
        "print(f\"Pergunta: {pergunta_usuario}\\nResposta: {resposta}\")"
      ],
      "metadata": {
        "colab": {
          "base_uri": "https://localhost:8080/"
        },
        "id": "4-UM87W3aTH3",
        "outputId": "37b65b61-57b0-479a-b45e-30f0b58f6912"
      },
      "execution_count": null,
      "outputs": [
        {
          "output_type": "stream",
          "name": "stdout",
          "text": [
            "Pergunta: o que é Saturno ?\n",
            "Resposta: Os anéis de Saturno são um sistema complexo de bilhões de partículas de gelo, rocha e poeira, variando em tamanho desde pequenos grãos até pedaços maiores que casas. Eles são incrivelmente finos, com uma espessura média de apenas alguns metros, apesar de se estenderem por centenas de milhares de quilômetros.\n"
          ]
        }
      ]
    },
    {
      "cell_type": "code",
      "source": [
        "# Usar embeddings do spaCy\n",
        "doc_pergunta = nlp(preprocessar(pergunta_usuario))\n",
        "docs_dataset = [nlp(preprocessar(p)) for p in perguntas]\n",
        "similaridades = [doc_pergunta.similarity(doc) for doc in docs_dataset]\n",
        "indice_mais_similar = similaridades.index(max(similaridades))"
      ],
      "metadata": {
        "colab": {
          "base_uri": "https://localhost:8080/"
        },
        "id": "POahhayoaOYK",
        "outputId": "2badcf60-bc67-4ade-a90a-e04b57c9c85f"
      },
      "execution_count": null,
      "outputs": [
        {
          "output_type": "stream",
          "name": "stderr",
          "text": [
            "<ipython-input-15-4453b026b9ac>:4: UserWarning: [W007] The model you're using has no word vectors loaded, so the result of the Doc.similarity method will be based on the tagger, parser and NER, which may not give useful similarity judgements. This may happen if you're using one of the small models, e.g. `en_core_web_sm`, which don't ship with word vectors and only use context-sensitive tensors. You can always add your own word vectors, or use one of the larger models instead if available.\n",
            "  similaridades = [doc_pergunta.similarity(doc) for doc in docs_dataset]\n"
          ]
        }
      ]
    }
  ]
}