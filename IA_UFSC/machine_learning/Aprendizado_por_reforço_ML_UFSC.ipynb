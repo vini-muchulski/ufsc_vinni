{
  "nbformat": 4,
  "nbformat_minor": 0,
  "metadata": {
    "colab": {
      "provenance": [],
      "toc_visible": true
    },
    "kernelspec": {
      "name": "python3",
      "display_name": "Python 3"
    },
    "language_info": {
      "name": "python"
    }
  },
  "cells": [
    {
      "cell_type": "markdown",
      "source": [
        "# Aprendizado por reforço utilizando a biblioteca gymnasium\n",
        "\n",
        "* O primeiro passo é instalar as bibliotecas:\n",
        "  * gymnasium\n",
        "  * swig\n",
        "  * gymnasium[box2d]"
      ],
      "metadata": {
        "id": "hROEwZxV0ovr"
      }
    },
    {
      "cell_type": "code",
      "source": [
        "!pip install gymnasium"
      ],
      "metadata": {
        "id": "dayTV4B3bAZA",
        "colab": {
          "base_uri": "https://localhost:8080/"
        },
        "outputId": "1ce00b03-bc05-4171-c5bc-84248f7f945d"
      },
      "execution_count": null,
      "outputs": [
        {
          "output_type": "stream",
          "name": "stdout",
          "text": [
            "Requirement already satisfied: gymnasium in /usr/local/lib/python3.11/dist-packages (1.1.1)\n",
            "Requirement already satisfied: numpy>=1.21.0 in /usr/local/lib/python3.11/dist-packages (from gymnasium) (2.0.2)\n",
            "Requirement already satisfied: cloudpickle>=1.2.0 in /usr/local/lib/python3.11/dist-packages (from gymnasium) (3.1.1)\n",
            "Requirement already satisfied: typing-extensions>=4.3.0 in /usr/local/lib/python3.11/dist-packages (from gymnasium) (4.14.0)\n",
            "Requirement already satisfied: farama-notifications>=0.0.1 in /usr/local/lib/python3.11/dist-packages (from gymnasium) (0.0.4)\n"
          ]
        }
      ]
    },
    {
      "cell_type": "code",
      "source": [
        "!pip install swig"
      ],
      "metadata": {
        "id": "OKyT1Y_WbLid",
        "colab": {
          "base_uri": "https://localhost:8080/"
        },
        "outputId": "26d3fe7d-79ff-4ab1-a7fc-762b3516db6d"
      },
      "execution_count": null,
      "outputs": [
        {
          "output_type": "stream",
          "name": "stdout",
          "text": [
            "Collecting swig\n",
            "  Downloading swig-4.3.1-py3-none-manylinux_2_12_x86_64.manylinux2010_x86_64.whl.metadata (3.5 kB)\n",
            "Downloading swig-4.3.1-py3-none-manylinux_2_12_x86_64.manylinux2010_x86_64.whl (1.9 MB)\n",
            "\u001b[?25l   \u001b[90m━━━━━━━━━━━━━━━━━━━━━━━━━━━━━━━━━━━━━━━━\u001b[0m \u001b[32m0.0/1.9 MB\u001b[0m \u001b[31m?\u001b[0m eta \u001b[36m-:--:--\u001b[0m\r\u001b[2K   \u001b[91m━━━━━━━━━━━━━━━━━━━━━━━━━━━━━━━━━━━━━━━\u001b[0m\u001b[91m╸\u001b[0m \u001b[32m1.9/1.9 MB\u001b[0m \u001b[31m103.0 MB/s\u001b[0m eta \u001b[36m0:00:01\u001b[0m\r\u001b[2K   \u001b[90m━━━━━━━━━━━━━━━━━━━━━━━━━━━━━━━━━━━━━━━━\u001b[0m \u001b[32m1.9/1.9 MB\u001b[0m \u001b[31m51.7 MB/s\u001b[0m eta \u001b[36m0:00:00\u001b[0m\n",
            "\u001b[?25hInstalling collected packages: swig\n",
            "Successfully installed swig-4.3.1\n"
          ]
        }
      ]
    },
    {
      "cell_type": "code",
      "source": [
        "!pip install gymnasium[box2d]"
      ],
      "metadata": {
        "id": "31qqW3cobSlA",
        "colab": {
          "base_uri": "https://localhost:8080/"
        },
        "outputId": "97c57e48-d4b3-42de-b652-c4879e886752"
      },
      "execution_count": null,
      "outputs": [
        {
          "output_type": "stream",
          "name": "stdout",
          "text": [
            "Requirement already satisfied: gymnasium[box2d] in /usr/local/lib/python3.11/dist-packages (1.1.1)\n",
            "Requirement already satisfied: numpy>=1.21.0 in /usr/local/lib/python3.11/dist-packages (from gymnasium[box2d]) (2.0.2)\n",
            "Requirement already satisfied: cloudpickle>=1.2.0 in /usr/local/lib/python3.11/dist-packages (from gymnasium[box2d]) (3.1.1)\n",
            "Requirement already satisfied: typing-extensions>=4.3.0 in /usr/local/lib/python3.11/dist-packages (from gymnasium[box2d]) (4.14.0)\n",
            "Requirement already satisfied: farama-notifications>=0.0.1 in /usr/local/lib/python3.11/dist-packages (from gymnasium[box2d]) (0.0.4)\n",
            "Collecting box2d-py==2.3.5 (from gymnasium[box2d])\n",
            "  Downloading box2d-py-2.3.5.tar.gz (374 kB)\n",
            "\u001b[?25l     \u001b[90m━━━━━━━━━━━━━━━━━━━━━━━━━━━━━━━━━━━━━━━━\u001b[0m \u001b[32m0.0/374.4 kB\u001b[0m \u001b[31m?\u001b[0m eta \u001b[36m-:--:--\u001b[0m\r\u001b[2K     \u001b[90m━━━━━━━━━━━━━━━━━━━━━━━━━━━━━━━━━━━━━━\u001b[0m \u001b[32m374.4/374.4 kB\u001b[0m \u001b[31m18.0 MB/s\u001b[0m eta \u001b[36m0:00:00\u001b[0m\n",
            "\u001b[?25h  Preparing metadata (setup.py) ... \u001b[?25l\u001b[?25hdone\n",
            "Requirement already satisfied: pygame>=2.1.3 in /usr/local/lib/python3.11/dist-packages (from gymnasium[box2d]) (2.6.1)\n",
            "Requirement already satisfied: swig==4.* in /usr/local/lib/python3.11/dist-packages (from gymnasium[box2d]) (4.3.1)\n",
            "Building wheels for collected packages: box2d-py\n",
            "  Building wheel for box2d-py (setup.py) ... \u001b[?25l\u001b[?25hdone\n",
            "  Created wheel for box2d-py: filename=box2d_py-2.3.5-cp311-cp311-linux_x86_64.whl size=2379416 sha256=481cf4eded453dac46a4104e269b155e2ac42983d272bf72c86dd69fb396d277\n",
            "  Stored in directory: /root/.cache/pip/wheels/ab/f1/0c/d56f4a2bdd12bae0a0693ec33f2f0daadb5eb9753c78fa5308\n",
            "Successfully built box2d-py\n",
            "Installing collected packages: box2d-py\n",
            "Successfully installed box2d-py-2.3.5\n"
          ]
        }
      ]
    },
    {
      "cell_type": "markdown",
      "source": [
        "* Após a instalação da biblioteca é necessário definir um ambiente de simulação. No exemplo abaixo será utilizado o ambiente \"Taxi-V3\". No site oficial da biblioteca gymnasium (https://gymnasium.farama.org/) existem outros exemplos para testar algoritmos de aprendizado por reforço.\n",
        "\n",
        "* O ambiente pode ser crido para os seguintes modelos de renderização (parâmetro \"render_mode\" do método \"make\"):\n",
        "  * ansi\n",
        "  * human\n",
        "  * rgb_array"
      ],
      "metadata": {
        "id": "BDRzvdGL1CP5"
      }
    },
    {
      "cell_type": "code",
      "source": [
        "import gymnasium as gym\n",
        "\n",
        "# Initialise the environment\n",
        "env = gym.make(\"Taxi-v3\", render_mode=\"ansi\")\n",
        "#env = gym.make(\"Taxi-v3\", render_mode=\"rgb_array\")"
      ],
      "metadata": {
        "id": "_13YwaOXx8ae"
      },
      "execution_count": null,
      "outputs": []
    },
    {
      "cell_type": "markdown",
      "source": [
        "## Tutorial"
      ],
      "metadata": {
        "id": "vdLHTPib3Hut"
      }
    },
    {
      "cell_type": "markdown",
      "source": [
        "* Após criar um ambiente é necessário fazer o reset para que o agente seja colocado em um ponto do ambiente e em seguida fazer a renderização. A renderização irá depender do modo com que você criou o ambiente (parâmetro \"render_mode\" do método \"make()\"."
      ],
      "metadata": {
        "id": "tGk2RbZlUTha"
      }
    },
    {
      "cell_type": "code",
      "source": [
        "env.reset()"
      ],
      "metadata": {
        "colab": {
          "base_uri": "https://localhost:8080/"
        },
        "id": "u3v81wgcx94n",
        "outputId": "10f2d866-f902-4ff1-e067-371d2562b74e"
      },
      "execution_count": null,
      "outputs": [
        {
          "output_type": "execute_result",
          "data": {
            "text/plain": [
              "(6, {'prob': 1.0, 'action_mask': array([1, 0, 1, 0, 0, 0], dtype=int8)})"
            ]
          },
          "metadata": {},
          "execution_count": 2
        }
      ]
    },
    {
      "cell_type": "code",
      "source": [
        "env.render()"
      ],
      "metadata": {
        "colab": {
          "base_uri": "https://localhost:8080/",
          "height": 54
        },
        "id": "T4LYbI891rCO",
        "outputId": "17680a32-59cb-463d-d464-e5b5dc876ace"
      },
      "execution_count": null,
      "outputs": [
        {
          "output_type": "execute_result",
          "data": {
            "text/plain": [
              "'+---------+\\n|\\x1b[43mR\\x1b[0m: | : :\\x1b[34;1mG\\x1b[0m|\\n| : | : : |\\n| : : : : |\\n| | : | : |\\n|\\x1b[35mY\\x1b[0m| : |B: |\\n+---------+\\n\\n'"
            ],
            "application/vnd.google.colaboratory.intrinsic+json": {
              "type": "string"
            }
          },
          "metadata": {},
          "execution_count": 3
        }
      ]
    },
    {
      "cell_type": "markdown",
      "source": [
        "* O exemplo a ser implementado é o do taxi. Neste exemplo o agente (taxista) precisa buscar um passageiro em um dos quatro pontos do ambiente (azul, verde, vermelho e amarelo). Após pegar o passageiro, o taxi precisa se deslocar até o destino (o hotel) para deixar o passageiro.\n",
        "\n",
        "![image.png](data:image/png;base64,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)"
      ],
      "metadata": {
        "id": "kfEje4TvUx1t"
      }
    },
    {
      "cell_type": "markdown",
      "source": [
        "* Os movimentos permitidos para o agente taxista são os seguintes:\n",
        "  * para cima (south) : 0\n",
        "  * para baixo (north) : 1\n",
        "  * para a direita (east) : 2\n",
        "  * para a esquerda (west) : 3\n",
        "  * pegar o passageiro : 4\n",
        "  * deixar o passageiro : 5\n",
        "\n",
        "* O espaço de observação é calculado da seguinte forma:\n",
        "  * o ambiente é um grid de 5 X 5 posições (25 posições)\n",
        "  * o passageiro pode estar em cinco localizações (ponto vermelho, amarelo, azul, verde ou dentro do taxi)\n",
        "  * são quatro destinos para o passageiro\n",
        "\n",
        "* logo, o espaço de observação é composto por 500 estados (5 x 5 x 5 x 4).  "
      ],
      "metadata": {
        "id": "N9SHIXGLXMpo"
      }
    },
    {
      "cell_type": "markdown",
      "source": [
        "* O aprendizado por reforço visa treinar um agente para executar uma tarefa em um determinado ambiente. Para que o agente receba feeedback sobre sua interação no ambiente existe um método de recompensa que pode ser negativa ou positiva.\n",
        "\n",
        "* Particularmente no problema do taxi as recompensas são as seguintes:\n",
        "  * -1 por andar no ambiente, ao menos que outra recompensa seja atribuída;\n",
        "  * +20 por deixar o passageiro no local correto;\n",
        "  * -10 excutar ações de pegar e deixar o passageiro de forma equivocada."
      ],
      "metadata": {
        "id": "O_h_ZHwWfCfs"
      }
    },
    {
      "cell_type": "code",
      "source": [
        "env.reset()"
      ],
      "metadata": {
        "colab": {
          "base_uri": "https://localhost:8080/"
        },
        "id": "4JwjBpBxjYUU",
        "outputId": "63591ea9-ffb4-4767-8df1-d13a556aec0a"
      },
      "execution_count": null,
      "outputs": [
        {
          "output_type": "execute_result",
          "data": {
            "text/plain": [
              "(8, {'prob': 1.0, 'action_mask': array([1, 0, 1, 0, 0, 0], dtype=int8)})"
            ]
          },
          "metadata": {},
          "execution_count": 4
        }
      ]
    },
    {
      "cell_type": "code",
      "source": [
        "print(env.render())"
      ],
      "metadata": {
        "colab": {
          "base_uri": "https://localhost:8080/"
        },
        "id": "rHnEw6WFj2M1",
        "outputId": "56dc5a5e-7f3a-48af-9706-6bcc03d303ab"
      },
      "execution_count": null,
      "outputs": [
        {
          "output_type": "stream",
          "name": "stdout",
          "text": [
            "+---------+\n",
            "|\u001b[35m\u001b[43mR\u001b[0m\u001b[0m: | : :G|\n",
            "| : | : : |\n",
            "| : : : : |\n",
            "| | : | : |\n",
            "|\u001b[34;1mY\u001b[0m| : |B: |\n",
            "+---------+\n",
            "\n",
            "\n"
          ]
        }
      ]
    },
    {
      "cell_type": "code",
      "source": [
        "print(env.step(0))\n",
        "print(env.render())"
      ],
      "metadata": {
        "colab": {
          "base_uri": "https://localhost:8080/"
        },
        "id": "CcTueqHq2714",
        "outputId": "b438534e-67f3-43df-bce0-7363d677b50c"
      },
      "execution_count": null,
      "outputs": [
        {
          "output_type": "stream",
          "name": "stdout",
          "text": [
            "(108, -1, False, False, {'prob': 1.0, 'action_mask': array([1, 1, 1, 0, 0, 0], dtype=int8)})\n",
            "+---------+\n",
            "|\u001b[35mR\u001b[0m: | : :G|\n",
            "|\u001b[43m \u001b[0m: | : : |\n",
            "| : : : : |\n",
            "| | : | : |\n",
            "|\u001b[34;1mY\u001b[0m| : |B: |\n",
            "+---------+\n",
            "  (South)\n",
            "\n"
          ]
        }
      ]
    },
    {
      "cell_type": "markdown",
      "source": [
        "* Implementando a tabela Q"
      ],
      "metadata": {
        "id": "ijUtCuhkxn6f"
      }
    },
    {
      "cell_type": "code",
      "source": [
        "import numpy as np"
      ],
      "metadata": {
        "id": "9Vs-24z6vloI"
      },
      "execution_count": null,
      "outputs": []
    },
    {
      "cell_type": "markdown",
      "source": [
        "* Declare uma tabela Q (quality) com formato np.array com n spaces linhas e n actions colunas."
      ],
      "metadata": {
        "id": "9rHVNnPvhXGy"
      }
    },
    {
      "cell_type": "code",
      "source": [
        "q_table = np.zeros([env.observation_space.n, env.action_space.n])"
      ],
      "metadata": {
        "id": "SxNry81wxrcN"
      },
      "execution_count": null,
      "outputs": []
    },
    {
      "cell_type": "code",
      "source": [
        "q_table"
      ],
      "metadata": {
        "colab": {
          "base_uri": "https://localhost:8080/"
        },
        "id": "8uQD00UAxznz",
        "outputId": "49d33473-c661-4ee4-83d9-3ef11d64d03c"
      },
      "execution_count": null,
      "outputs": [
        {
          "output_type": "execute_result",
          "data": {
            "text/plain": [
              "array([[0., 0., 0., 0., 0., 0.],\n",
              "       [0., 0., 0., 0., 0., 0.],\n",
              "       [0., 0., 0., 0., 0., 0.],\n",
              "       ...,\n",
              "       [0., 0., 0., 0., 0., 0.],\n",
              "       [0., 0., 0., 0., 0., 0.],\n",
              "       [0., 0., 0., 0., 0., 0.]])"
            ]
          },
          "metadata": {},
          "execution_count": 10
        }
      ]
    },
    {
      "cell_type": "code",
      "source": [
        "import random\n",
        "from IPython.display import clear_output\n",
        "import numpy as np"
      ],
      "metadata": {
        "id": "Hms1CU1Dx4kg"
      },
      "execution_count": null,
      "outputs": []
    },
    {
      "cell_type": "markdown",
      "source": [
        "* Após criar e inicializar a tabela Q com zeros é necessário implementar o algoritmo de aprendizado do agente.\n",
        "\n",
        "* O agente irá interagir com o ambiente por n episódios. Cada episódio representa a ação completa de pegar o passageiro e levá-lo ao ponto de desembarque ou falhar, ou seja, deixar o passageiro no local errado.\n",
        "\n",
        "* A atualização da tabela Q é feita com base na Equação de Bellman:\n",
        "\n",
        "![image.png](data:image/png;base64,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)\n",
        "\n",
        "* A equação de Bellman especifica alguns fatores necessários para o aprendizado do agente, tais como:\n",
        "\n",
        "  * Taxa de aprendizado (fator alfa)\n",
        "  * Fator de desconto (gama)\n",
        "\n",
        "* O valor Q é calculado com base no par ação-estado anteriores (atual, considerando cada passo de treinamento).\n",
        "\n",
        "* O fator alfa (taxa de aprendizado) determina a velocidade de aprendizado. Valores próximos a zero tendem a fazer atualizações na tabela Q com base na recompensa atual e com valores próximos a um tendem a fazer atualizações com recompensas baseado no próximo par estado-ação.\n",
        "\n",
        "* O fator gama aplica um desconto em relação a recompensa futura (par estado-ação). Se este valor for próximo a um será dado maior importância a recompensa futura. Se o valor for próximo a zero daremos mais importância a recompensa atual.\n",
        "\n",
        "* A sequência de ações a serem executadas no processo de treinamento, ou seja, da construção da tabela Q é a seguinte:\n",
        "\n",
        "  * Inicializar a tabela Q com valores zero;\n",
        "  * Escolher uma ação (considerando o equilíbrio entre exploration e exploitation);\n",
        "  * Executar uma ação;\n",
        "  * Calcular a recompensa;\n",
        "  * Atualizar a tabela Q.\n"
      ],
      "metadata": {
        "id": "OUZB19hOhnl2"
      }
    },
    {
      "cell_type": "code",
      "source": [
        "alfa = 0.1\n",
        "gama = 0.6\n",
        "epsilon = 0.1  # Estratégia conhecida na literatura da área como estratégia epsion-greedy. Serve para estabelecer uma probabilidade do agente fazer exploration ou exploitation."
      ],
      "metadata": {
        "id": "pO9kqJ9VRyvI"
      },
      "execution_count": null,
      "outputs": []
    },
    {
      "cell_type": "code",
      "source": [
        "for i in range(1, 10000):\n",
        "  estado, _ = env.reset()\n",
        "  epocas, penalizacao, recompensa = 0, 0, 0\n",
        "  concluido = False\n",
        "\n",
        "  while not concluido:\n",
        "    # Exploração -> ação aleatória\n",
        "    if random.uniform(0 ,1) < epsilon:\n",
        "      acao = env.action_space.sample()\n",
        "    # Exploitation -> ação definida na tabela Q\n",
        "    else:\n",
        "      acao = np.argmax(q_table[estado])\n",
        "\n",
        "    prox_estado, recompensa, concluido, _ , informacoes = env.step(acao)\n",
        "\n",
        "    q_antigo = q_table[estado, acao]\n",
        "    prox_valor_max = np.max(q_table[prox_estado])\n",
        "\n",
        "    q_novo = (1 - alfa) * q_antigo + alfa * (recompensa + gama * prox_valor_max)\n",
        "    q_table[estado, acao] = q_novo\n",
        "\n",
        "    if recompensa == -10:\n",
        "      penalizacao += 1\n",
        "\n",
        "    estado = prox_estado\n",
        "    epocas += 1\n",
        "\n",
        "  if i % 100 == 0:\n",
        "    clear_output(wait=True)\n",
        "    print(f\"Episodio: {i}\")\n",
        "\n",
        "print(f\"Treinamento concluido... epocas: {epocas}\")"
      ],
      "metadata": {
        "colab": {
          "base_uri": "https://localhost:8080/"
        },
        "id": "AqXZs6yjS-Di",
        "outputId": "5e15742c-a3fb-47d1-b647-a7ea45cf2560"
      },
      "execution_count": null,
      "outputs": [
        {
          "output_type": "stream",
          "name": "stdout",
          "text": [
            "Episodio: 9900\n",
            "Treinamento concluido... epocas: 14\n"
          ]
        }
      ]
    },
    {
      "cell_type": "code",
      "source": [
        "q_table"
      ],
      "metadata": {
        "id": "g6uD_p7QjX15",
        "colab": {
          "base_uri": "https://localhost:8080/"
        },
        "outputId": "a6585bb0-6e04-4487-cf82-bb6fdf7b0c3c"
      },
      "execution_count": null,
      "outputs": [
        {
          "output_type": "execute_result",
          "data": {
            "text/plain": [
              "array([[  0.        ,   0.        ,   0.        ,   0.        ,\n",
              "          0.        ,   0.        ],\n",
              "       [ -2.41059552,  -2.35880173,  -2.41296993,  -2.35672328,\n",
              "         -2.27325184, -11.28434123],\n",
              "       [ -1.8641755 ,  -1.45794881,  -1.86445822,  -1.45268867,\n",
              "         -0.7504    , -10.1296352 ],\n",
              "       ...,\n",
              "       [ -1.11054828,   0.38576414,  -1.14125484,  -1.15385591,\n",
              "         -2.80537738,  -3.57771032],\n",
              "       [ -2.11556936,  -2.11215866,  -2.11612824,  -2.11215001,\n",
              "         -4.42339339,  -3.60082679],\n",
              "       [  0.38299946,   0.28482724,   0.80407998,  10.99920162,\n",
              "         -2.40560753,  -1.        ]])"
            ]
          },
          "metadata": {},
          "execution_count": 19
        }
      ]
    },
    {
      "cell_type": "code",
      "source": [
        "env.reset()\n",
        "print(env.render())"
      ],
      "metadata": {
        "colab": {
          "base_uri": "https://localhost:8080/"
        },
        "id": "FQfbXh-zcg9C",
        "outputId": "a915b215-0f8a-482e-81f0-4faa2fdf176e"
      },
      "execution_count": null,
      "outputs": [
        {
          "output_type": "stream",
          "name": "stdout",
          "text": [
            "+---------+\n",
            "|R: | : :G|\n",
            "| : | : : |\n",
            "| : : : : |\n",
            "| | : | :\u001b[43m \u001b[0m|\n",
            "|\u001b[35mY\u001b[0m| : |\u001b[34;1mB\u001b[0m: |\n",
            "+---------+\n",
            "\n",
            "\n"
          ]
        }
      ]
    },
    {
      "cell_type": "code",
      "source": [
        "env.render()"
      ],
      "metadata": {
        "colab": {
          "base_uri": "https://localhost:8080/",
          "height": 390
        },
        "id": "woUjfVSnAvbc",
        "outputId": "25abb010-b08a-4093-c0d4-7d7a922099b0"
      },
      "execution_count": null,
      "outputs": [
        {
          "output_type": "execute_result",
          "data": {
            "text/plain": [
              "array([[[110, 109, 106],\n",
              "        [110, 109, 106],\n",
              "        [124, 122, 122],\n",
              "        ...,\n",
              "        [108, 111, 109],\n",
              "        [108, 111, 109],\n",
              "        [118, 119, 119]],\n",
              "\n",
              "       [[110, 109, 106],\n",
              "        [110, 109, 106],\n",
              "        [124, 122, 122],\n",
              "        ...,\n",
              "        [108, 111, 109],\n",
              "        [108, 111, 109],\n",
              "        [118, 119, 119]],\n",
              "\n",
              "       [[114, 116, 115],\n",
              "        [114, 116, 115],\n",
              "        [126, 127, 126],\n",
              "        ...,\n",
              "        [112, 113, 111],\n",
              "        [112, 113, 111],\n",
              "        [118, 117, 115]],\n",
              "\n",
              "       ...,\n",
              "\n",
              "       [[116, 115, 116],\n",
              "        [116, 115, 116],\n",
              "        [106, 107, 108],\n",
              "        ...,\n",
              "        [113, 115, 114],\n",
              "        [113, 115, 114],\n",
              "        [117, 114, 117]],\n",
              "\n",
              "       [[116, 115, 116],\n",
              "        [116, 115, 116],\n",
              "        [106, 107, 108],\n",
              "        ...,\n",
              "        [113, 115, 114],\n",
              "        [113, 115, 114],\n",
              "        [117, 114, 117]],\n",
              "\n",
              "       [[115, 112, 112],\n",
              "        [115, 112, 112],\n",
              "        [119, 119, 117],\n",
              "        ...,\n",
              "        [123, 119, 118],\n",
              "        [123, 119, 118],\n",
              "        [114, 114, 117]]], dtype=uint8)"
            ],
            "text/html": [
              "<style>\n",
              "      .ndarray_repr .ndarray_raw_data {\n",
              "        display: none;\n",
              "      }\n",
              "      .ndarray_repr.show_array .ndarray_raw_data {\n",
              "        display: block;\n",
              "      }\n",
              "      .ndarray_repr.show_array .ndarray_image_preview {\n",
              "        display: none;\n",
              "      }\n",
              "      </style>\n",
              "      <div id=\"id-a0ea4f1b-8961-4dbd-b0ef-c95f318180d8\" class=\"ndarray_repr\"><pre>ndarray (350, 550, 3) <button style=\"padding: 0 2px;\">show data</button></pre><img src=\"data:image/png;base64,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\" class=\"ndarray_image_preview\" /><pre class=\"ndarray_raw_data\">array([[[110, 109, 106],\n",
              "        [110, 109, 106],\n",
              "        [124, 122, 122],\n",
              "        ...,\n",
              "        [108, 111, 109],\n",
              "        [108, 111, 109],\n",
              "        [118, 119, 119]],\n",
              "\n",
              "       [[110, 109, 106],\n",
              "        [110, 109, 106],\n",
              "        [124, 122, 122],\n",
              "        ...,\n",
              "        [108, 111, 109],\n",
              "        [108, 111, 109],\n",
              "        [118, 119, 119]],\n",
              "\n",
              "       [[114, 116, 115],\n",
              "        [114, 116, 115],\n",
              "        [126, 127, 126],\n",
              "        ...,\n",
              "        [112, 113, 111],\n",
              "        [112, 113, 111],\n",
              "        [118, 117, 115]],\n",
              "\n",
              "       ...,\n",
              "\n",
              "       [[116, 115, 116],\n",
              "        [116, 115, 116],\n",
              "        [106, 107, 108],\n",
              "        ...,\n",
              "        [113, 115, 114],\n",
              "        [113, 115, 114],\n",
              "        [117, 114, 117]],\n",
              "\n",
              "       [[116, 115, 116],\n",
              "        [116, 115, 116],\n",
              "        [106, 107, 108],\n",
              "        ...,\n",
              "        [113, 115, 114],\n",
              "        [113, 115, 114],\n",
              "        [117, 114, 117]],\n",
              "\n",
              "       [[115, 112, 112],\n",
              "        [115, 112, 112],\n",
              "        [119, 119, 117],\n",
              "        ...,\n",
              "        [123, 119, 118],\n",
              "        [123, 119, 118],\n",
              "        [114, 114, 117]]], dtype=uint8)</pre></div><script>\n",
              "      (() => {\n",
              "      const titles = ['show data', 'hide data'];\n",
              "      let index = 0\n",
              "      document.querySelector('#id-a0ea4f1b-8961-4dbd-b0ef-c95f318180d8 button').onclick = (e) => {\n",
              "        document.querySelector('#id-a0ea4f1b-8961-4dbd-b0ef-c95f318180d8').classList.toggle('show_array');\n",
              "        index = (++index) % 2;\n",
              "        document.querySelector('#id-a0ea4f1b-8961-4dbd-b0ef-c95f318180d8 button').textContent = titles[index];\n",
              "        e.preventDefault();\n",
              "        e.stopPropagation();\n",
              "      }\n",
              "      })();\n",
              "    </script>"
            ]
          },
          "metadata": {},
          "execution_count": 17
        }
      ]
    },
    {
      "cell_type": "markdown",
      "source": [
        "* Após treinar o agente e obter a tabela Q é possível testar o agente.\n",
        "\n",
        "* Execute o algoritmo por n episódios e faça o computo das penalidades."
      ],
      "metadata": {
        "id": "knq85wsvdu2n"
      }
    },
    {
      "cell_type": "code",
      "source": [
        "total_penalidades = 0\n",
        "episodios = 10\n",
        "total_epocas = 0"
      ],
      "metadata": {
        "id": "18dtT_7bcxBb"
      },
      "execution_count": null,
      "outputs": []
    },
    {
      "cell_type": "code",
      "source": [
        "import time"
      ],
      "metadata": {
        "id": "K_kxc4kcf1QN"
      },
      "execution_count": null,
      "outputs": []
    },
    {
      "cell_type": "code",
      "source": [
        "for _ in range(episodios):\n",
        "  estado, _ = env.reset()\n",
        "  penalidades, recompensa, epocas = 0, 0, 0\n",
        "  concluido = False\n",
        "\n",
        "  while not concluido:\n",
        "    acao = np.argmax(q_table[estado])\n",
        "    print(f\"Acao: {acao}\")\n",
        "\n",
        "\n",
        "    estado, recompensa, concluido, _, informacoes = env.step(acao)\n",
        "\n",
        "    if recompensa == -10:\n",
        "      penalidades += 1\n",
        "\n",
        "    epocas += 1\n",
        "\n",
        "    clear_output(wait=True)\n",
        "    print(env.render())\n",
        "    time.sleep(.1)\n",
        "\n",
        "  total_penalidades =+ penalidades\n",
        "  total_epocas += epocas\n",
        "\n",
        "print(f\"Penalidade total {total_penalidades} em {total_epocas} epocas.\")\n"
      ],
      "metadata": {
        "colab": {
          "base_uri": "https://localhost:8080/"
        },
        "id": "H9BuD2NAdmXg",
        "outputId": "56388bf5-ca35-4145-b638-75d589e65bab"
      },
      "execution_count": null,
      "outputs": [
        {
          "output_type": "stream",
          "name": "stdout",
          "text": [
            "+---------+\n",
            "|\u001b[35m\u001b[34;1m\u001b[43mR\u001b[0m\u001b[0m\u001b[0m: | : :G|\n",
            "| : | : : |\n",
            "| : : : : |\n",
            "| | : | : |\n",
            "|Y| : |B: |\n",
            "+---------+\n",
            "  (Dropoff)\n",
            "\n",
            "Penalidade total 0 em 398 epocas.\n"
          ]
        }
      ]
    },
    {
      "cell_type": "markdown",
      "source": [
        "# Aula"
      ],
      "metadata": {
        "id": "J1P9bSaH7tZI"
      }
    },
    {
      "cell_type": "code",
      "source": [
        "# politica -> PI\n",
        "# estado -> mudar localizacao ou algo equivalente"
      ],
      "metadata": {
        "id": "XfevVgx-7vBX"
      },
      "execution_count": null,
      "outputs": []
    },
    {
      "cell_type": "code",
      "source": [
        "import gymnasium as gym"
      ],
      "metadata": {
        "id": "WApH63GNLifK"
      },
      "execution_count": null,
      "outputs": []
    },
    {
      "cell_type": "code",
      "source": [
        "env = gym.make(\"FrozenLake-v1\", render_mode=\"rgb_array\")"
      ],
      "metadata": {
        "id": "SnsqwsOjLlFR"
      },
      "execution_count": null,
      "outputs": []
    },
    {
      "cell_type": "code",
      "source": [
        "env.reset()"
      ],
      "metadata": {
        "colab": {
          "base_uri": "https://localhost:8080/"
        },
        "id": "91BRHZmZLxN4",
        "outputId": "d11960e0-a799-4309-98d0-6e679ec37b75"
      },
      "execution_count": null,
      "outputs": [
        {
          "output_type": "execute_result",
          "data": {
            "text/plain": [
              "(0, {'prob': 1})"
            ]
          },
          "metadata": {},
          "execution_count": 3
        }
      ]
    },
    {
      "cell_type": "code",
      "source": [
        "env.step(1)"
      ],
      "metadata": {
        "colab": {
          "base_uri": "https://localhost:8080/"
        },
        "id": "hdlsT5xGL1nU",
        "outputId": "7a006aa5-e21d-4dec-b058-e9937da9cbb9"
      },
      "execution_count": null,
      "outputs": [
        {
          "output_type": "execute_result",
          "data": {
            "text/plain": [
              "(8, 0.0, False, False, {'prob': 0.3333333333333333})"
            ]
          },
          "metadata": {},
          "execution_count": 7
        }
      ]
    },
    {
      "cell_type": "code",
      "source": [
        "env.render()"
      ],
      "metadata": {
        "colab": {
          "base_uri": "https://localhost:8080/",
          "height": 296
        },
        "id": "x4S3SSUuLyzZ",
        "outputId": "65820269-65c2-4727-cc51-67cd56758731"
      },
      "execution_count": null,
      "outputs": [
        {
          "output_type": "execute_result",
          "data": {
            "text/plain": [
              "array([[[180, 200, 230],\n",
              "        [180, 200, 230],\n",
              "        [180, 200, 230],\n",
              "        ...,\n",
              "        [180, 200, 230],\n",
              "        [180, 200, 230],\n",
              "        [180, 200, 230]],\n",
              "\n",
              "       [[180, 200, 230],\n",
              "        [204, 230, 255],\n",
              "        [204, 230, 255],\n",
              "        ...,\n",
              "        [204, 230, 255],\n",
              "        [204, 230, 255],\n",
              "        [180, 200, 230]],\n",
              "\n",
              "       [[180, 200, 230],\n",
              "        [235, 245, 249],\n",
              "        [204, 230, 255],\n",
              "        ...,\n",
              "        [204, 230, 255],\n",
              "        [204, 230, 255],\n",
              "        [180, 200, 230]],\n",
              "\n",
              "       ...,\n",
              "\n",
              "       [[180, 200, 230],\n",
              "        [235, 245, 249],\n",
              "        [235, 245, 249],\n",
              "        ...,\n",
              "        [204, 230, 255],\n",
              "        [235, 245, 249],\n",
              "        [180, 200, 230]],\n",
              "\n",
              "       [[180, 200, 230],\n",
              "        [235, 245, 249],\n",
              "        [235, 245, 249],\n",
              "        ...,\n",
              "        [204, 230, 255],\n",
              "        [204, 230, 255],\n",
              "        [180, 200, 230]],\n",
              "\n",
              "       [[180, 200, 230],\n",
              "        [180, 200, 230],\n",
              "        [180, 200, 230],\n",
              "        ...,\n",
              "        [180, 200, 230],\n",
              "        [180, 200, 230],\n",
              "        [180, 200, 230]]], dtype=uint8)"
            ],
            "text/html": [
              "<style>\n",
              "      .ndarray_repr .ndarray_raw_data {\n",
              "        display: none;\n",
              "      }\n",
              "      .ndarray_repr.show_array .ndarray_raw_data {\n",
              "        display: block;\n",
              "      }\n",
              "      .ndarray_repr.show_array .ndarray_image_preview {\n",
              "        display: none;\n",
              "      }\n",
              "      </style>\n",
              "      <div id=\"id-97bd1db3-c4d3-4eb2-bf03-76168e25ad57\" class=\"ndarray_repr\"><pre>ndarray (256, 256, 3) <button style=\"padding: 0 2px;\">show data</button></pre><img src=\"data:image/png;base64,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\" class=\"ndarray_image_preview\" /><pre class=\"ndarray_raw_data\">array([[[180, 200, 230],\n",
              "        [180, 200, 230],\n",
              "        [180, 200, 230],\n",
              "        ...,\n",
              "        [180, 200, 230],\n",
              "        [180, 200, 230],\n",
              "        [180, 200, 230]],\n",
              "\n",
              "       [[180, 200, 230],\n",
              "        [204, 230, 255],\n",
              "        [204, 230, 255],\n",
              "        ...,\n",
              "        [204, 230, 255],\n",
              "        [204, 230, 255],\n",
              "        [180, 200, 230]],\n",
              "\n",
              "       [[180, 200, 230],\n",
              "        [235, 245, 249],\n",
              "        [204, 230, 255],\n",
              "        ...,\n",
              "        [204, 230, 255],\n",
              "        [204, 230, 255],\n",
              "        [180, 200, 230]],\n",
              "\n",
              "       ...,\n",
              "\n",
              "       [[180, 200, 230],\n",
              "        [235, 245, 249],\n",
              "        [235, 245, 249],\n",
              "        ...,\n",
              "        [204, 230, 255],\n",
              "        [235, 245, 249],\n",
              "        [180, 200, 230]],\n",
              "\n",
              "       [[180, 200, 230],\n",
              "        [235, 245, 249],\n",
              "        [235, 245, 249],\n",
              "        ...,\n",
              "        [204, 230, 255],\n",
              "        [204, 230, 255],\n",
              "        [180, 200, 230]],\n",
              "\n",
              "       [[180, 200, 230],\n",
              "        [180, 200, 230],\n",
              "        [180, 200, 230],\n",
              "        ...,\n",
              "        [180, 200, 230],\n",
              "        [180, 200, 230],\n",
              "        [180, 200, 230]]], dtype=uint8)</pre></div><script>\n",
              "      (() => {\n",
              "      const titles = ['show data', 'hide data'];\n",
              "      let index = 0\n",
              "      document.querySelector('#id-97bd1db3-c4d3-4eb2-bf03-76168e25ad57 button').onclick = (e) => {\n",
              "        document.querySelector('#id-97bd1db3-c4d3-4eb2-bf03-76168e25ad57').classList.toggle('show_array');\n",
              "        index = (++index) % 2;\n",
              "        document.querySelector('#id-97bd1db3-c4d3-4eb2-bf03-76168e25ad57 button').textContent = titles[index];\n",
              "        e.preventDefault();\n",
              "        e.stopPropagation();\n",
              "      }\n",
              "      })();\n",
              "    </script>"
            ]
          },
          "metadata": {},
          "execution_count": 9
        }
      ]
    },
    {
      "cell_type": "code",
      "source": [
        "import numpy as np\n",
        "import random\n",
        "from IPython.display import clear_output\n",
        "import time\n",
        "\n",
        "\n",
        "q_table = np.zeros([env.observation_space.n, env.action_space.n])\n",
        "\n",
        "\n",
        "alfa = 0.1\n",
        "gama = 0.6\n",
        "epsilon = 0.1  # Estratégia conhecida na literatura da área como estratégia epsion-greedy. Serve para estabelecer uma probabilidade do agente fazer exploration ou exploitation.\n",
        "\n",
        "\n",
        "q_table"
      ],
      "metadata": {
        "colab": {
          "base_uri": "https://localhost:8080/"
        },
        "id": "hRxmSP3jMgYq",
        "outputId": "2bc44f41-1df0-4cfb-f0da-b6b847332084"
      },
      "execution_count": null,
      "outputs": [
        {
          "output_type": "execute_result",
          "data": {
            "text/plain": [
              "array([[0., 0., 0., 0.],\n",
              "       [0., 0., 0., 0.],\n",
              "       [0., 0., 0., 0.],\n",
              "       [0., 0., 0., 0.],\n",
              "       [0., 0., 0., 0.],\n",
              "       [0., 0., 0., 0.],\n",
              "       [0., 0., 0., 0.],\n",
              "       [0., 0., 0., 0.],\n",
              "       [0., 0., 0., 0.],\n",
              "       [0., 0., 0., 0.],\n",
              "       [0., 0., 0., 0.],\n",
              "       [0., 0., 0., 0.],\n",
              "       [0., 0., 0., 0.],\n",
              "       [0., 0., 0., 0.],\n",
              "       [0., 0., 0., 0.],\n",
              "       [0., 0., 0., 0.]])"
            ]
          },
          "metadata": {},
          "execution_count": 13
        }
      ]
    },
    {
      "cell_type": "code",
      "source": [
        "for i in range(1, 10000):\n",
        "  estado, _ = env.reset()\n",
        "  epocas, penalizacao, recompensa = 0, 0, 0\n",
        "  concluido = False\n",
        "\n",
        "  while not concluido:\n",
        "    # Exploração -> ação aleatória\n",
        "    if random.uniform(0 ,1) < epsilon:\n",
        "      acao = env.action_space.sample()\n",
        "    # Exploitation -> ação definida na tabela Q\n",
        "    else:\n",
        "      acao = np.argmax(q_table[estado])\n",
        "\n",
        "    prox_estado, recompensa, concluido, _ , informacoes = env.step(acao)\n",
        "\n",
        "    q_antigo = q_table[estado, acao]\n",
        "    prox_valor_max = np.max(q_table[prox_estado])\n",
        "\n",
        "    q_novo = (1 - alfa) * q_antigo + alfa * (recompensa + gama * prox_valor_max)\n",
        "    q_table[estado, acao] = q_novo\n",
        "\n",
        "    if recompensa == -10:\n",
        "      penalizacao += 1\n",
        "\n",
        "    estado = prox_estado\n",
        "    epocas += 1\n",
        "\n",
        "  if i % 100 == 0:\n",
        "    clear_output(wait=True)\n",
        "    print(f\"Episodio: {i}\")\n",
        "\n",
        "print(f\"Treinamento concluido... epocas: {epocas}\")\n"
      ],
      "metadata": {
        "colab": {
          "base_uri": "https://localhost:8080/"
        },
        "id": "ebSf-yxXMg-N",
        "outputId": "2963e1e2-fa53-4bad-a0f6-6442e0ed8416"
      },
      "execution_count": null,
      "outputs": [
        {
          "output_type": "stream",
          "name": "stdout",
          "text": [
            "Episodio: 9900\n",
            "Treinamento concluido... epocas: 10\n"
          ]
        }
      ]
    },
    {
      "cell_type": "code",
      "source": [
        "env.render()"
      ],
      "metadata": {
        "colab": {
          "base_uri": "https://localhost:8080/",
          "height": 296
        },
        "id": "uwyRwTy0MsQo",
        "outputId": "111c61f7-c0c9-418c-99a4-1c186d227ac9"
      },
      "execution_count": null,
      "outputs": [
        {
          "output_type": "execute_result",
          "data": {
            "text/plain": [
              "array([[[180, 200, 230],\n",
              "        [180, 200, 230],\n",
              "        [180, 200, 230],\n",
              "        ...,\n",
              "        [180, 200, 230],\n",
              "        [180, 200, 230],\n",
              "        [180, 200, 230]],\n",
              "\n",
              "       [[180, 200, 230],\n",
              "        [204, 230, 255],\n",
              "        [204, 230, 255],\n",
              "        ...,\n",
              "        [204, 230, 255],\n",
              "        [204, 230, 255],\n",
              "        [180, 200, 230]],\n",
              "\n",
              "       [[180, 200, 230],\n",
              "        [235, 245, 249],\n",
              "        [204, 230, 255],\n",
              "        ...,\n",
              "        [204, 230, 255],\n",
              "        [204, 230, 255],\n",
              "        [180, 200, 230]],\n",
              "\n",
              "       ...,\n",
              "\n",
              "       [[180, 200, 230],\n",
              "        [235, 245, 249],\n",
              "        [235, 245, 249],\n",
              "        ...,\n",
              "        [204, 230, 255],\n",
              "        [235, 245, 249],\n",
              "        [180, 200, 230]],\n",
              "\n",
              "       [[180, 200, 230],\n",
              "        [235, 245, 249],\n",
              "        [235, 245, 249],\n",
              "        ...,\n",
              "        [204, 230, 255],\n",
              "        [204, 230, 255],\n",
              "        [180, 200, 230]],\n",
              "\n",
              "       [[180, 200, 230],\n",
              "        [180, 200, 230],\n",
              "        [180, 200, 230],\n",
              "        ...,\n",
              "        [180, 200, 230],\n",
              "        [180, 200, 230],\n",
              "        [180, 200, 230]]], dtype=uint8)"
            ],
            "text/html": [
              "<style>\n",
              "      .ndarray_repr .ndarray_raw_data {\n",
              "        display: none;\n",
              "      }\n",
              "      .ndarray_repr.show_array .ndarray_raw_data {\n",
              "        display: block;\n",
              "      }\n",
              "      .ndarray_repr.show_array .ndarray_image_preview {\n",
              "        display: none;\n",
              "      }\n",
              "      </style>\n",
              "      <div id=\"id-3eb1f58a-af72-4675-87e7-a078a7695246\" class=\"ndarray_repr\"><pre>ndarray (256, 256, 3) <button style=\"padding: 0 2px;\">show data</button></pre><img src=\"data:image/png;base64,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\" class=\"ndarray_image_preview\" /><pre class=\"ndarray_raw_data\">array([[[180, 200, 230],\n",
              "        [180, 200, 230],\n",
              "        [180, 200, 230],\n",
              "        ...,\n",
              "        [180, 200, 230],\n",
              "        [180, 200, 230],\n",
              "        [180, 200, 230]],\n",
              "\n",
              "       [[180, 200, 230],\n",
              "        [204, 230, 255],\n",
              "        [204, 230, 255],\n",
              "        ...,\n",
              "        [204, 230, 255],\n",
              "        [204, 230, 255],\n",
              "        [180, 200, 230]],\n",
              "\n",
              "       [[180, 200, 230],\n",
              "        [235, 245, 249],\n",
              "        [204, 230, 255],\n",
              "        ...,\n",
              "        [204, 230, 255],\n",
              "        [204, 230, 255],\n",
              "        [180, 200, 230]],\n",
              "\n",
              "       ...,\n",
              "\n",
              "       [[180, 200, 230],\n",
              "        [235, 245, 249],\n",
              "        [235, 245, 249],\n",
              "        ...,\n",
              "        [204, 230, 255],\n",
              "        [235, 245, 249],\n",
              "        [180, 200, 230]],\n",
              "\n",
              "       [[180, 200, 230],\n",
              "        [235, 245, 249],\n",
              "        [235, 245, 249],\n",
              "        ...,\n",
              "        [204, 230, 255],\n",
              "        [204, 230, 255],\n",
              "        [180, 200, 230]],\n",
              "\n",
              "       [[180, 200, 230],\n",
              "        [180, 200, 230],\n",
              "        [180, 200, 230],\n",
              "        ...,\n",
              "        [180, 200, 230],\n",
              "        [180, 200, 230],\n",
              "        [180, 200, 230]]], dtype=uint8)</pre></div><script>\n",
              "      (() => {\n",
              "      const titles = ['show data', 'hide data'];\n",
              "      let index = 0\n",
              "      document.querySelector('#id-3eb1f58a-af72-4675-87e7-a078a7695246 button').onclick = (e) => {\n",
              "        document.querySelector('#id-3eb1f58a-af72-4675-87e7-a078a7695246').classList.toggle('show_array');\n",
              "        index = (++index) % 2;\n",
              "        document.querySelector('#id-3eb1f58a-af72-4675-87e7-a078a7695246 button').textContent = titles[index];\n",
              "        e.preventDefault();\n",
              "        e.stopPropagation();\n",
              "      }\n",
              "      })();\n",
              "    </script>"
            ]
          },
          "metadata": {},
          "execution_count": 15
        }
      ]
    },
    {
      "cell_type": "code",
      "source": [
        "total_penalidades = 0\n",
        "episodios = 10\n",
        "total_epocas = 0\n",
        "\n",
        "\n",
        "\n",
        "\n",
        "for _ in range(episodios):\n",
        "  estado, _ = env.reset()\n",
        "  penalidades, recompensa, epocas = 0, 0, 0\n",
        "  concluido = False\n",
        "\n",
        "  while not concluido:\n",
        "    acao = np.argmax(q_table[estado])\n",
        "    print(f\"Acao: {acao}\")\n",
        "\n",
        "\n",
        "    estado, recompensa, concluido, _, informacoes = env.step(acao)\n",
        "\n",
        "    if recompensa == -10:\n",
        "      penalidades += 1\n",
        "\n",
        "    epocas += 1\n",
        "\n",
        "    clear_output(wait=True)\n",
        "    #print(env.render())\n",
        "    time.sleep(.1)\n",
        "\n",
        "  total_penalidades =+ penalidades\n",
        "  total_epocas += epocas\n",
        "\n",
        "print(f\"Penalidade total {total_penalidades} em {total_epocas} epocas.\")\n",
        "\n"
      ],
      "metadata": {
        "colab": {
          "base_uri": "https://localhost:8080/"
        },
        "id": "e7zH38M7Myzc",
        "outputId": "dae54cec-32d3-4838-e8e8-8726d096a4ba"
      },
      "execution_count": null,
      "outputs": [
        {
          "output_type": "stream",
          "name": "stdout",
          "text": [
            "Penalidade total 0 em 168 epocas.\n"
          ]
        }
      ]
    }
  ]
}