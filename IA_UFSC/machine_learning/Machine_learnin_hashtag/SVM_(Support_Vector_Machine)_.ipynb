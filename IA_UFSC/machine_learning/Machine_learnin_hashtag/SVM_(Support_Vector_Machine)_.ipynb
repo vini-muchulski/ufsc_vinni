{
  "cells": [
    {
      "cell_type": "markdown",
      "metadata": {
        "id": "O0WnsoLy-HJr"
      },
      "source": [
        "# O SVM (Support Vector Machine)\n",
        "- Utilizando o dataset iris, podemos utilizar apenas a coluna petal width (cm) e visualizar a seguinte classificação dos dados:\n",
        "<img src=\"https://drive.google.com/uc?id=1uEDHjpB-etkcNadcNYbBZqZeOBrIhCLi\" style='width: 600px;' />\n",
        "<br>\n",
        "- Se tivermos um novo ponto, como o mostrado em vermelho, automaticamente já vamos pensar que esse ponto possui a mesma classe dos pontos em roxo:\n",
        "<img src=\"https://drive.google.com/uc?id=1iYYZoHp4B9Suh6sI2H7G6G2WI6M-RKFP\" style='width: 600px;' />\n",
        "<br>\n",
        "- Da mesma forma, tendemos a pensar que esse novo ponto deve ser classificado como amarelo:\n",
        "<img src=\"https://drive.google.com/uc?id=1dfMuwPa6-r7CW9btaWnkHn3hVEDykKw6\" style='width: 600px;' />\n",
        "<br>\n",
        "- E é uma lógica muito parecida com essa que temos no SVM\n",
        "<br>\n",
        "- Podemos basicamente pegar os pontos que estão mais no extremo dos dados (**os pontos de duas classes diferentes que estão mais próximos entre si**) e usar esses pontos para determinar um <font color='red'>**hiperplano**</font> capaz de separar essas classes\n",
        "<img src=\"https://drive.google.com/uc?id=1KoDBoT2Lcm31A-ebAuWLgilSEEeY4OlW\" style='width: 600px;' />\n",
        "- **Quanto maior a margem, melhor!**\n",
        "<br><br>\n",
        "- Um fato importante é que ele **pode ser utilizado tanto em dados linearmente separáveis** (como mostrado acima) **como em dados que não são linearmente separáveis** (que são a maioria dos nossos dados)\n",
        "    - Ele faz isso elevando as dimensões dos dados\n",
        "    - O SVM vai usar as funções de kernel e no próprio algoritmo ele vai buscar a melhor dimensão capaz de encontrar essa reta\n",
        "    - Só que ele não faz efetivamente essas transformações, ele só vai calcular a relação entre os pontos considerando que eles estão nessas dimensões. Isso é chamado de **\"Truque do Kernel\"**\n",
        "<br>\n",
        "<img src=\"https://drive.google.com/uc?id=1DpLpHou1tc4UayxKFglqb4I48EhjoktX\" style='width: 1000px;' />\n",
        "<br>\n",
        "- E por mais que a gente tenha visto em apenas 1D, ele funciona para qualquer dimensão dos dados\n",
        "<img src=\"https://drive.google.com/uc?id=17U2EPYj1pmbkXFimoLLP1mDWN0uiW3kP\" style='width: 400px;' />\n",
        "<br>\n",
        "- **É um algoritmo muito poderoso porém pode demorar muito tempo para treinar os dados**"
      ],
      "id": "O0WnsoLy-HJr"
    },
    {
      "cell_type": "markdown",
      "metadata": {
        "id": "6RvAr38v-HJu"
      },
      "source": [
        "- **Para começar, podemos já usar o dataset iris**\n",
        "    - https://scikit-learn.org/stable/modules/generated/sklearn.datasets.load_iris.html#sklearn.datasets.load_iris"
      ],
      "id": "6RvAr38v-HJu"
    },
    {
      "cell_type": "code",
      "execution_count": 1,
      "metadata": {
        "id": "RVcxE6LP-HJu"
      },
      "outputs": [],
      "source": [
        "# Importando o dataset\n",
        "from sklearn.datasets import load_iris\n",
        "X,y = load_iris(return_X_y = True, as_frame=True)"
      ],
      "id": "RVcxE6LP-HJu"
    },
    {
      "cell_type": "code",
      "execution_count": 2,
      "metadata": {
        "id": "AmTyVhjV-HJv"
      },
      "outputs": [],
      "source": [
        "# Considerando as duas colunas de pétala os targets 0 e 1\n",
        "X = X.loc[y.isin([0,1]),['petal length (cm)','petal width (cm)']]\n",
        "y = y[y.isin([0,1])]"
      ],
      "id": "AmTyVhjV-HJv"
    },
    {
      "cell_type": "markdown",
      "metadata": {
        "id": "DfUuTY4D-HJv"
      },
      "source": [
        "- E separar em treino e teste\n",
        "    - https://scikit-learn.org/stable/modules/generated/sklearn.model_selection.train_test_split.html"
      ],
      "id": "DfUuTY4D-HJv"
    },
    {
      "cell_type": "code",
      "execution_count": 3,
      "metadata": {
        "id": "G_LNXhDo-HJv"
      },
      "outputs": [],
      "source": [
        "# Separando em treino e teste\n",
        "from sklearn.model_selection import train_test_split\n",
        "X_train, X_test, y_train, y_test = train_test_split(X, y, test_size=0.33, random_state=42)"
      ],
      "id": "G_LNXhDo-HJv"
    },
    {
      "cell_type": "markdown",
      "metadata": {
        "id": "6d4FdGZR-HJw"
      },
      "source": [
        "- Visualizando graficamente essas informações\n",
        "    - https://matplotlib.org/stable/plot_types/basic/scatter_plot.html#sphx-glr-plot-types-basic-scatter-plot-py"
      ],
      "id": "6d4FdGZR-HJw"
    },
    {
      "cell_type": "code",
      "execution_count": 4,
      "metadata": {
        "id": "OCU9R6Zj-HJw",
        "outputId": "04395f74-171b-444b-e707-c057ccb24fef",
        "colab": {
          "base_uri": "https://localhost:8080/",
          "height": 430
        }
      },
      "outputs": [
        {
          "output_type": "display_data",
          "data": {
            "text/plain": [
              "<Figure size 640x480 with 1 Axes>"
            ],
            "image/png": "[encoded data removed]"
          },
          "metadata": {}
        }
      ],
      "source": [
        "# Visualizando graficamente\n",
        "import matplotlib.pyplot as plt\n",
        "import numpy as np\n",
        "\n",
        "fig, ax = plt.subplots()\n",
        "\n",
        "ax.scatter(X_train['petal length (cm)'], X_train['petal width (cm)'],c=y_train,s=60)\n",
        "\n",
        "plt.show()"
      ],
      "id": "OCU9R6Zj-HJw"
    },
    {
      "cell_type": "markdown",
      "metadata": {
        "id": "AdZvfHpF-HJx"
      },
      "source": [
        "- **Utilizando o SVC**\n",
        "    - https://scikit-learn.org/stable/modules/generated/sklearn.svm.SVC.html#sklearn.svm.SVC"
      ],
      "id": "AdZvfHpF-HJx"
    },
    {
      "cell_type": "code",
      "execution_count": 5,
      "metadata": {
        "id": "f-xdExt5-HJx"
      },
      "outputs": [],
      "source": [
        "# Importando o SVC\n",
        "from sklearn.svm import SVC"
      ],
      "id": "f-xdExt5-HJx"
    },
    {
      "cell_type": "code",
      "execution_count": 6,
      "metadata": {
        "id": "3brMY7T2-HJx"
      },
      "outputs": [],
      "source": [
        "# Criando o classificador e já fazendo o fit com os dados\n",
        "clf = SVC(kernel='linear').fit(X_train,y_train)"
      ],
      "id": "3brMY7T2-HJx"
    },
    {
      "cell_type": "code",
      "execution_count": 7,
      "metadata": {
        "id": "L7UYKmDZ-HJx",
        "outputId": "7fdccb89-231d-4dfb-dab7-e02b2b0e855f",
        "colab": {
          "base_uri": "https://localhost:8080/"
        }
      },
      "outputs": [
        {
          "output_type": "execute_result",
          "data": {
            "text/plain": [
              "array([1.1769056 , 0.78337144])"
            ]
          },
          "metadata": {},
          "execution_count": 7
        }
      ],
      "source": [
        "# Visualizando o coef\n",
        "clf.coef_[0]"
      ],
      "id": "L7UYKmDZ-HJx"
    },
    {
      "cell_type": "code",
      "execution_count": 8,
      "metadata": {
        "id": "dizm4NCv-HJx"
      },
      "outputs": [],
      "source": [
        "# Separando w1\n",
        "w1 = clf.coef_[0][0]"
      ],
      "id": "dizm4NCv-HJx"
    },
    {
      "cell_type": "code",
      "execution_count": 9,
      "metadata": {
        "id": "wtJKnCYd-HJx"
      },
      "outputs": [],
      "source": [
        "# e w2\n",
        "w2 = clf.coef_[0][1]"
      ],
      "id": "wtJKnCYd-HJx"
    },
    {
      "cell_type": "code",
      "execution_count": 10,
      "metadata": {
        "id": "YJwI0YS8-HJy"
      },
      "outputs": [],
      "source": [
        "# E agora utilizando o intercept_ como w0\n",
        "w0 = clf.intercept_[0]"
      ],
      "id": "YJwI0YS8-HJy"
    },
    {
      "cell_type": "markdown",
      "metadata": {
        "id": "c4ATrzyi-HJy"
      },
      "source": [
        "- Para traçar a reta, podemos considerar que a equação da reta será dada por:\n",
        "    - y = ax + b\n",
        "- Para considerar os dois coeficientes, também podemos escrever como:\n",
        "    - w1.X_train[0] + w2.X_train[1] + w0 = 0\n",
        "    - w1.X_train['petal width (cm)'] + w2.X_train['petal length (cm)'] + w0 = 0\n",
        "    - Sendo x = X_train['petal width (cm)'] e y = X_train['petal length (cm)']:\n",
        "        - w1.x + w2.y + w0 = 0\n",
        "        - w2.y = -w1.x - w0\n",
        "        - y = (-w1.x - w0)/w2"
      ],
      "id": "c4ATrzyi-HJy"
    },
    {
      "cell_type": "code",
      "execution_count": 11,
      "metadata": {
        "id": "tUSx8zoA-HJy",
        "outputId": "0bc874e8-8eb6-478f-f414-c2fe16544020",
        "colab": {
          "base_uri": "https://localhost:8080/",
          "height": 430
        }
      },
      "outputs": [
        {
          "output_type": "display_data",
          "data": {
            "text/plain": [
              "<Figure size 640x480 with 1 Axes>"
            ],
            "image/png": "[encoded data removed]"
          },
          "metadata": {}
        }
      ],
      "source": [
        "# Traçando essa reta no gráfico\n",
        "fig, ax = plt.subplots()\n",
        "\n",
        "ax.scatter(X_train['petal length (cm)'], X_train['petal width (cm)'],c=y_train,s=60)\n",
        "\n",
        "x = np.linspace(1,5,100)\n",
        "y = (-w1*x-w0)/w2\n",
        "ax.plot(x,y,'r')\n",
        "\n",
        "ax.set(ylim=(0,1.7))\n",
        "\n",
        "plt.show()"
      ],
      "id": "tUSx8zoA-HJy"
    },
    {
      "cell_type": "code",
      "execution_count": 12,
      "metadata": {
        "id": "bBywhDSa-HJy",
        "outputId": "fb668483-61fa-473d-810b-d503e89160b7",
        "colab": {
          "base_uri": "https://localhost:8080/"
        }
      },
      "outputs": [
        {
          "output_type": "execute_result",
          "data": {
            "text/plain": [
              "array([[1.9, 0.2],\n",
              "       [1.7, 0.5],\n",
              "       [3. , 1.1]])"
            ]
          },
          "metadata": {},
          "execution_count": 12
        }
      ],
      "source": [
        "# Além disso, também podemos ver quais foram os vetores de suporte utilizados para traçar essa reta\n",
        "clf.support_vectors_"
      ],
      "id": "bBywhDSa-HJy"
    },
    {
      "cell_type": "code",
      "execution_count": 13,
      "metadata": {
        "id": "rxf7frDa-HJy",
        "outputId": "1af68ae0-6c38-40c1-d151-c78c2041a54a",
        "colab": {
          "base_uri": "https://localhost:8080/"
        }
      },
      "outputs": [
        {
          "output_type": "execute_result",
          "data": {
            "text/plain": [
              "array([1.9, 1.7, 3. ])"
            ]
          },
          "metadata": {},
          "execution_count": 13
        }
      ],
      "source": [
        "# Pegando os valores de x\n",
        "clf.support_vectors_[:,0]"
      ],
      "id": "rxf7frDa-HJy"
    },
    {
      "cell_type": "code",
      "execution_count": 14,
      "metadata": {
        "id": "X5ynACWv-HJy",
        "outputId": "c8c17473-c691-4bde-8ad1-3320b3b151fc",
        "colab": {
          "base_uri": "https://localhost:8080/"
        }
      },
      "outputs": [
        {
          "output_type": "execute_result",
          "data": {
            "text/plain": [
              "array([0.2, 0.5, 1.1])"
            ]
          },
          "metadata": {},
          "execution_count": 14
        }
      ],
      "source": [
        "# E os valores de y\n",
        "clf.support_vectors_[:,1]"
      ],
      "id": "X5ynACWv-HJy"
    },
    {
      "cell_type": "code",
      "execution_count": 15,
      "metadata": {
        "id": "e-d0giqc-HJy",
        "outputId": "4b6b7128-9985-47f4-ecc3-409765d9cfd9",
        "colab": {
          "base_uri": "https://localhost:8080/",
          "height": 430
        }
      },
      "outputs": [
        {
          "output_type": "display_data",
          "data": {
            "text/plain": [
              "<Figure size 640x480 with 1 Axes>"
            ],
            "image/png": "[encoded data removed]"
          },
          "metadata": {}
        }
      ],
      "source": [
        "# Visualizando esses pontos\n",
        "fig, ax = plt.subplots()\n",
        "\n",
        "ax.scatter(X_train['petal length (cm)'], X_train['petal width (cm)'],c=y_train,s=60)\n",
        "\n",
        "x = np.linspace(1,5,100)\n",
        "y = (-w1*x-w0)/w2\n",
        "ax.plot(x,y,'r')\n",
        "y2 = (+1-w1*x-w0)/w2\n",
        "ax.plot(x,y2,'--r')\n",
        "y3 = (-1-w1*x-w0)/w2\n",
        "ax.plot(x,y3,'--r')\n",
        "\n",
        "ax.scatter(clf.support_vectors_[:,0],clf.support_vectors_[:,1],c='r')\n",
        "\n",
        "ax.set(ylim=(0,1.7))\n",
        "\n",
        "plt.show()"
      ],
      "id": "e-d0giqc-HJy"
    },
    {
      "cell_type": "markdown",
      "metadata": {
        "id": "u7WZcy95-HJy"
      },
      "source": [
        "- **Agora podemos usar toda a nossa base de dados**"
      ],
      "id": "u7WZcy95-HJy"
    },
    {
      "cell_type": "code",
      "execution_count": 16,
      "metadata": {
        "id": "X3VwHJPT-HJz"
      },
      "outputs": [],
      "source": [
        "# Importando o dataset\n",
        "X,y = load_iris(return_X_y = True, as_frame=True)"
      ],
      "id": "X3VwHJPT-HJz"
    },
    {
      "cell_type": "code",
      "execution_count": 17,
      "metadata": {
        "id": "XqMpkvgA-HJz"
      },
      "outputs": [],
      "source": [
        "# Separando em treino e teste\n",
        "X_train,X_test,y_train,y_test = train_test_split(X,y,test_size=0.33,random_state=42)"
      ],
      "id": "XqMpkvgA-HJz"
    },
    {
      "cell_type": "code",
      "execution_count": 18,
      "metadata": {
        "id": "UVSWPwDC-HJz"
      },
      "outputs": [],
      "source": [
        "# Criando o classificador\n",
        "clf2 = SVC().fit(X_train,y_train)"
      ],
      "id": "UVSWPwDC-HJz"
    },
    {
      "cell_type": "code",
      "execution_count": 19,
      "metadata": {
        "id": "gfiDam1g-HJz"
      },
      "outputs": [],
      "source": [
        "# Fazendo a previsão\n",
        "y_pred = clf2.predict(X_test)"
      ],
      "id": "gfiDam1g-HJz"
    },
    {
      "cell_type": "code",
      "execution_count": 20,
      "metadata": {
        "id": "nyeL5M0h-HJz",
        "outputId": "d94ed128-45e6-4fb9-c2cf-8854542aeff9",
        "colab": {
          "base_uri": "https://localhost:8080/"
        }
      },
      "outputs": [
        {
          "output_type": "execute_result",
          "data": {
            "text/plain": [
              "array([[19,  0,  0],\n",
              "       [ 0, 15,  0],\n",
              "       [ 0,  0, 16]])"
            ]
          },
          "metadata": {},
          "execution_count": 20
        }
      ],
      "source": [
        "# E analisando a matriz de confusão\n",
        "from sklearn.metrics import confusion_matrix\n",
        "confusion_matrix(y_test,y_pred)"
      ],
      "id": "nyeL5M0h-HJz"
    }
  ],
  "metadata": {
    "kernelspec": {
      "display_name": "Python 3",
      "language": "python",
      "name": "python3"
    },
    "language_info": {
      "codemirror_mode": {
        "name": "ipython",
        "version": 3
      },
      "file_extension": ".py",
      "mimetype": "text/x-python",
      "name": "python",
      "nbconvert_exporter": "python",
      "pygments_lexer": "ipython3",
      "version": "3.8.5"
    },
    "colab": {
      "provenance": []
    }
  },
  "nbformat": 4,
  "nbformat_minor": 5
}