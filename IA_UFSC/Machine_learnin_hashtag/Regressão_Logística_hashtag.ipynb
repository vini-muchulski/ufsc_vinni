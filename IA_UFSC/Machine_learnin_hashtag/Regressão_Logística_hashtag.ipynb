{
  "cells": [
    {
      "cell_type": "markdown",
      "metadata": {
        "id": "7e6vjhtSXLSA"
      },
      "source": [
        "# A Regressão Logística\n",
        "- É um modelo linear para **classificação** usando uma função dada por:\n",
        "<img src=\"https://drive.google.com/uc?id=1YXiCkxBJ0vf8WQRjLgiw6uI-Xp2T56cZ\" style='width: 300px;' />\n",
        "- Onde, **para calcular s, vamos usar os mesmos conceitos que falamos na regressão linear (coef, intercept)**\n",
        "<br><br>\n",
        "- Na regressão logística, ao invés de determinar um valor binário para a classe (0 ou 1, maça ou banana, fraude ou não), ela retorna **a probabilidade de um evento ocorrer**\n",
        "    - Como ele calcula probabilidades, é muito usado em problemas de classificação de crédito, previsão de saída de clientes (churn) e até probabilidade de doenças\n",
        "<br><br>\n",
        "- Considerando uma única variável (petal width (cm)) para fazer a previsão do dataset iris (que já falamos), podemos visualizar primeiramente os dados e então traçar essa função logística\n",
        "<img src=\"https://drive.google.com/uc?id=1aSA66H2y8tiS2oVDz05BHgUhM218DcnL\" style='width: 600px;' />\n",
        "- Com isso, podemos fazer a previsão para qualquer novo valor\n",
        "<img src=\"https://drive.google.com/uc?id=1lIvPbsn2PD0fPe-6m-HZnItzVh_gM0Oj\" style='width: 2000px;' />"
      ],
      "id": "7e6vjhtSXLSA"
    },
    {
      "cell_type": "markdown",
      "metadata": {
        "id": "5Zimhj1lXLSD"
      },
      "source": [
        "- **Para começar, podemos já usar o dataset iris**\n",
        "    - https://scikit-learn.org/stable/modules/generated/sklearn.datasets.load_iris.html#sklearn.datasets.load_iris"
      ],
      "id": "5Zimhj1lXLSD"
    },
    {
      "cell_type": "code",
      "execution_count": 1,
      "metadata": {
        "id": "WuRFlCWvXLSD"
      },
      "outputs": [],
      "source": [
        "# Importando o dataset\n",
        "from sklearn.datasets import load_iris\n",
        "X,y = load_iris(return_X_y = True, as_frame=True)"
      ],
      "id": "WuRFlCWvXLSD"
    },
    {
      "cell_type": "code",
      "execution_count": 2,
      "metadata": {
        "id": "Bza9_YS_XLSE"
      },
      "outputs": [],
      "source": [
        "# Considerando apenas a coluna 'petal width (cm)' e os targets 0 e 1\n",
        "X = X.loc[y.isin([0,1]),'petal width (cm)'].values\n",
        "y = y[y.isin([0,1])].values"
      ],
      "id": "Bza9_YS_XLSE"
    },
    {
      "cell_type": "markdown",
      "metadata": {
        "id": "MDCc0JtTXLSE"
      },
      "source": [
        "- E separar em treino e teste\n",
        "    - https://scikit-learn.org/stable/modules/generated/sklearn.model_selection.train_test_split.html"
      ],
      "id": "MDCc0JtTXLSE"
    },
    {
      "cell_type": "code",
      "execution_count": 3,
      "metadata": {
        "id": "qpChH2EFXLSE"
      },
      "outputs": [],
      "source": [
        "# Separando em treino e teste\n",
        "from sklearn.model_selection import train_test_split\n",
        "X_train, X_test, y_train, y_test = train_test_split(X, y, test_size=0.33, random_state=42)"
      ],
      "id": "qpChH2EFXLSE"
    },
    {
      "cell_type": "markdown",
      "metadata": {
        "id": "JZ8a0K5WXLSF"
      },
      "source": [
        "- Visualizando graficamente a relação do petal width (cm) com a classe\n",
        "    - https://matplotlib.org/stable/plot_types/basic/scatter_plot.html#sphx-glr-plot-types-basic-scatter-plot-py"
      ],
      "id": "JZ8a0K5WXLSF"
    },
    {
      "cell_type": "code",
      "execution_count": 4,
      "metadata": {
        "id": "6YaZVbyBXLSF",
        "outputId": "fc5c0ca2-bfae-4fdb-f920-68b115a53df8",
        "colab": {
          "base_uri": "https://localhost:8080/",
          "height": 430
        }
      },
      "outputs": [
        {
          "output_type": "display_data",
          "data": {
            "text/plain": [
              "<Figure size 640x480 with 1 Axes>"
            ],
            "image/png": "[encoded data removed]"
          },
          "metadata": {}
        }
      ],
      "source": [
        "# Visualizando graficamente\n",
        "import matplotlib.pyplot as plt\n",
        "\n",
        "fig, ax = plt.subplots()\n",
        "\n",
        "ax.scatter(X_train, y_train)\n",
        "\n",
        "ax.set(yticks=[0,1],xticks=[0,0.3,0.6,0.9,1.2,1.5])\n",
        "\n",
        "plt.show()"
      ],
      "id": "6YaZVbyBXLSF"
    },
    {
      "cell_type": "markdown",
      "metadata": {
        "id": "szFLEwidXLSF"
      },
      "source": [
        "- **Utilizando a regressão logística**\n",
        "    - https://scikit-learn.org/stable/modules/generated/sklearn.linear_model.LogisticRegression.html#sklearn.linear_model.LogisticRegression"
      ],
      "id": "szFLEwidXLSF"
    },
    {
      "cell_type": "code",
      "execution_count": 5,
      "metadata": {
        "id": "pmquCiP0XLSG"
      },
      "outputs": [],
      "source": [
        "# Importando a regressão logística\n",
        "from sklearn.linear_model import LogisticRegression"
      ],
      "id": "pmquCiP0XLSG"
    },
    {
      "cell_type": "code",
      "execution_count": 6,
      "metadata": {
        "id": "j3p6D6leXLSG"
      },
      "outputs": [],
      "source": [
        "# Criando o nosso classificador\n",
        "clf = LogisticRegression(random_state=0).fit(X_train.reshape(-1, 1), y_train)"
      ],
      "id": "j3p6D6leXLSG"
    },
    {
      "cell_type": "code",
      "execution_count": 7,
      "metadata": {
        "id": "cVmWLKgiXLSG"
      },
      "outputs": [],
      "source": [
        "# Verificando o coeficiente angular\n",
        "w1 = clf.coef_[0][0]"
      ],
      "id": "cVmWLKgiXLSG"
    },
    {
      "cell_type": "code",
      "execution_count": 8,
      "metadata": {
        "id": "6-A0ATbHXLSG"
      },
      "outputs": [],
      "source": [
        "# E o coeficiente linear\n",
        "w0 = clf.intercept_[0]"
      ],
      "id": "6-A0ATbHXLSG"
    },
    {
      "cell_type": "markdown",
      "metadata": {
        "id": "e9v0ME04XLSG"
      },
      "source": [
        "- Para traçar esse gráfico, já temos a função `expit` do scipy\n",
        "    - https://docs.scipy.org/doc/scipy/reference/generated/scipy.special.expit.html\n",
        "    - `expit(x) = 1/(1+exp(-x))`"
      ],
      "id": "e9v0ME04XLSG"
    },
    {
      "cell_type": "code",
      "execution_count": 9,
      "metadata": {
        "id": "LUZjK04NXLSG"
      },
      "outputs": [],
      "source": [
        "# Importando o expit\n",
        "from scipy.special import expit"
      ],
      "id": "LUZjK04NXLSG"
    },
    {
      "cell_type": "code",
      "execution_count": 11,
      "metadata": {
        "id": "5lxj_XaCXLSG",
        "colab": {
          "base_uri": "https://localhost:8080/"
        },
        "outputId": "fedffadb-4622-4ed5-cbfd-864a34cdc2b8"
      },
      "outputs": [
        {
          "output_type": "execute_result",
          "data": {
            "text/plain": [
              "array([0.1       , 0.11515152, 0.13030303, 0.14545455, 0.16060606,\n",
              "       0.17575758, 0.19090909, 0.20606061, 0.22121212, 0.23636364,\n",
              "       0.25151515, 0.26666667, 0.28181818, 0.2969697 , 0.31212121,\n",
              "       0.32727273, 0.34242424, 0.35757576, 0.37272727, 0.38787879,\n",
              "       0.4030303 , 0.41818182, 0.43333333, 0.44848485, 0.46363636,\n",
              "       0.47878788, 0.49393939, 0.50909091, 0.52424242, 0.53939394,\n",
              "       0.55454545, 0.56969697, 0.58484848, 0.6       , 0.61515152,\n",
              "       0.63030303, 0.64545455, 0.66060606, 0.67575758, 0.69090909,\n",
              "       0.70606061, 0.72121212, 0.73636364, 0.75151515, 0.76666667,\n",
              "       0.78181818, 0.7969697 , 0.81212121, 0.82727273, 0.84242424,\n",
              "       0.85757576, 0.87272727, 0.88787879, 0.9030303 , 0.91818182,\n",
              "       0.93333333, 0.94848485, 0.96363636, 0.97878788, 0.99393939,\n",
              "       1.00909091, 1.02424242, 1.03939394, 1.05454545, 1.06969697,\n",
              "       1.08484848, 1.1       , 1.11515152, 1.13030303, 1.14545455,\n",
              "       1.16060606, 1.17575758, 1.19090909, 1.20606061, 1.22121212,\n",
              "       1.23636364, 1.25151515, 1.26666667, 1.28181818, 1.2969697 ,\n",
              "       1.31212121, 1.32727273, 1.34242424, 1.35757576, 1.37272727,\n",
              "       1.38787879, 1.4030303 , 1.41818182, 1.43333333, 1.44848485,\n",
              "       1.46363636, 1.47878788, 1.49393939, 1.50909091, 1.52424242,\n",
              "       1.53939394, 1.55454545, 1.56969697, 1.58484848, 1.6       ])"
            ]
          },
          "metadata": {},
          "execution_count": 11
        }
      ],
      "source": [
        "# Importando o numpy e criando um array de 0 a 2\n",
        "import numpy as np\n",
        "valores_x = np.linspace(X_train.min(),X_train.max(),100)\n",
        "valores_x"
      ],
      "id": "5lxj_XaCXLSG"
    },
    {
      "cell_type": "markdown",
      "metadata": {
        "id": "NSlER42rXLSH"
      },
      "source": [
        "- Para o caso binário, podemos calcular a curva em função do coef_ e do intercept_ fazendo `expit(x*w1+w0)`\n",
        "    - https://scikit-learn.org/stable/modules/linear_model.html#binary-case"
      ],
      "id": "NSlER42rXLSH"
    },
    {
      "cell_type": "code",
      "execution_count": 12,
      "metadata": {
        "id": "m0HUby-IXLSH"
      },
      "outputs": [],
      "source": [
        "# Calculando o valor para cada valor de y\n",
        "valores_y = expit(w1*valores_x+w0)"
      ],
      "id": "m0HUby-IXLSH"
    },
    {
      "cell_type": "code",
      "execution_count": 13,
      "metadata": {
        "id": "5dmrcRrPXLSH",
        "outputId": "93c909da-4431-44d7-b2d3-9b63ebc659ce",
        "colab": {
          "base_uri": "https://localhost:8080/",
          "height": 430
        }
      },
      "outputs": [
        {
          "output_type": "display_data",
          "data": {
            "text/plain": [
              "<Figure size 640x480 with 1 Axes>"
            ],
            "image/png": "[encoded data removed]"
          },
          "metadata": {}
        }
      ],
      "source": [
        "# Visualizando graficamente\n",
        "fig, ax = plt.subplots()\n",
        "\n",
        "ax.scatter(X_train, y_train)\n",
        "ax.plot(valores_x,valores_y)\n",
        "\n",
        "ax.set(yticks=[0,1],xticks=[0,0.3,0.6,0.9,1.2,1.5])\n",
        "\n",
        "plt.show()"
      ],
      "id": "5dmrcRrPXLSH"
    },
    {
      "cell_type": "code",
      "execution_count": 14,
      "metadata": {
        "id": "XExymA3kXLSH"
      },
      "outputs": [],
      "source": [
        "# Podemos exibir os dados de treino em cima dessa curva\n",
        "y_curva = expit(w1*X_train+w0)"
      ],
      "id": "XExymA3kXLSH"
    },
    {
      "cell_type": "code",
      "execution_count": 15,
      "metadata": {
        "id": "5HPWimHeXLSH",
        "outputId": "c7742b5a-355b-4244-f3d6-28db9a1172a8",
        "colab": {
          "base_uri": "https://localhost:8080/",
          "height": 430
        }
      },
      "outputs": [
        {
          "output_type": "display_data",
          "data": {
            "text/plain": [
              "<Figure size 640x480 with 1 Axes>"
            ],
            "image/png": "[encoded data removed]"
          },
          "metadata": {}
        }
      ],
      "source": [
        "# Visualizando graficamente\n",
        "fig, ax = plt.subplots()\n",
        "\n",
        "ax.scatter(X_train, y_train)\n",
        "ax.plot(valores_x,valores_y)\n",
        "ax.scatter(X_train, y_curva)\n",
        "\n",
        "ax.axhline(y=0.5,c='m',linestyle='--')\n",
        "\n",
        "ax.plot([0.1,0.1],[0,0.07883025],'--g')\n",
        "ax.plot([0.2,0.2],[0,0.11156652],'--g')\n",
        "ax.plot([0.3,0.3],[0,0.15560101],'--g')\n",
        "ax.plot([0.4,0.4],[0,0.21285167],'--g')\n",
        "ax.plot([0.5,0.5],[0,0.28408003],'--g')\n",
        "ax.plot([0.6,0.6],[0,0.36800066],'--g')\n",
        "ax.plot([1,1],[0.72972574,1],'--g')\n",
        "ax.plot([1.1,1.1],[0.79846697,1],'--g')\n",
        "ax.plot([1.2,1.2],[0.85324086,1],'--g')\n",
        "ax.plot([1.3,1.3],[0.89508404,1],'--g')\n",
        "ax.plot([1.4,1.4],[0.92603135,1],'--g')\n",
        "ax.plot([1.5,1.5],[0.94837655,1],'--g')\n",
        "ax.plot([1.6,1.6],[0.96423221,1],'--g')\n",
        "\n",
        "ax.set(yticks=[0,1],xticks=[0,0.3,0.6,0.9,1.2,1.5])\n",
        "\n",
        "plt.show()"
      ],
      "id": "5HPWimHeXLSH"
    },
    {
      "cell_type": "code",
      "execution_count": 16,
      "metadata": {
        "id": "U-Z2W861XLSH",
        "outputId": "55a9190f-348d-420c-ed0f-8add480cebd7",
        "colab": {
          "base_uri": "https://localhost:8080/"
        }
      },
      "outputs": [
        {
          "output_type": "execute_result",
          "data": {
            "text/plain": [
              "array([[0.88722677, 0.11277323],\n",
              "       [0.26530467, 0.73469533],\n",
              "       [0.78455262, 0.21544738],\n",
              "       [0.05000239, 0.94999761],\n",
              "       [0.07180909, 0.92819091]])"
            ]
          },
          "metadata": {},
          "execution_count": 16
        }
      ],
      "source": [
        "# Fazendo a previsão das probabilidades\n",
        "clf.predict_proba(X_train.reshape(-1,1))[0:5]"
      ],
      "id": "U-Z2W861XLSH"
    },
    {
      "cell_type": "code",
      "execution_count": 17,
      "metadata": {
        "id": "bxsiPeI2XLSH",
        "outputId": "853a35f0-8398-40bf-e9f2-02a028d4eadd",
        "colab": {
          "base_uri": "https://localhost:8080/"
        }
      },
      "outputs": [
        {
          "output_type": "execute_result",
          "data": {
            "text/plain": [
              "array([0.2, 1. , 0.4, 1.5, 1.4])"
            ]
          },
          "metadata": {},
          "execution_count": 17
        }
      ],
      "source": [
        "# Verificando o X_train\n",
        "X_train[0:5]"
      ],
      "id": "bxsiPeI2XLSH"
    },
    {
      "cell_type": "code",
      "execution_count": 18,
      "metadata": {
        "id": "cm9N0BldXLSH",
        "outputId": "1f3f5f02-51d5-4a8c-c8b2-ca91d967aa4d",
        "colab": {
          "base_uri": "https://localhost:8080/"
        }
      },
      "outputs": [
        {
          "output_type": "execute_result",
          "data": {
            "text/plain": [
              "array([0, 1, 0, 1, 1])"
            ]
          },
          "metadata": {},
          "execution_count": 18
        }
      ],
      "source": [
        "# e o y_train\n",
        "y_train[0:5]"
      ],
      "id": "cm9N0BldXLSH"
    },
    {
      "cell_type": "markdown",
      "metadata": {
        "id": "BQcQa-71XLSI"
      },
      "source": [
        "- **Utilizando essa previsão na base de teste**"
      ],
      "id": "BQcQa-71XLSI"
    },
    {
      "cell_type": "code",
      "execution_count": 19,
      "metadata": {
        "id": "MzlHtc__XLSI"
      },
      "outputs": [],
      "source": [
        "# Verificando a previsão da probabilidade\n",
        "y_pred = clf.predict_proba(X_test.reshape(-1,1))"
      ],
      "id": "MzlHtc__XLSI"
    },
    {
      "cell_type": "code",
      "execution_count": 20,
      "metadata": {
        "id": "jSHvjROQXLSI",
        "outputId": "1ab7949f-f64e-42ac-c0ef-3432936f47e3",
        "colab": {
          "base_uri": "https://localhost:8080/"
        }
      },
      "outputs": [
        {
          "output_type": "execute_result",
          "data": {
            "text/plain": [
              "array([0.96542879, 0.89789616, 0.98369551, 0.15741893, 0.21544738,\n",
              "       0.11277323, 0.11277323, 0.8027766 , 0.11277323, 0.11277323,\n",
              "       0.15741893, 0.11277323, 0.85679257, 0.11277323, 0.85679257,\n",
              "       0.11277323, 0.92819091, 0.97621699, 0.07959343, 0.21544738,\n",
              "       0.89789616, 0.89789616, 0.21544738, 0.11277323, 0.8027766 ,\n",
              "       0.21544738, 0.15741893, 0.89789616, 0.07959343, 0.94999761,\n",
              "       0.11277323, 0.11277323, 0.96542879])"
            ]
          },
          "metadata": {},
          "execution_count": 20
        }
      ],
      "source": [
        "y_pred[:,1]"
      ],
      "id": "jSHvjROQXLSI"
    },
    {
      "cell_type": "code",
      "execution_count": 21,
      "metadata": {
        "id": "YF2UeH6MXLSI",
        "outputId": "00b3448d-ec5c-42cb-8559-e285371d31f2",
        "colab": {
          "base_uri": "https://localhost:8080/",
          "height": 430
        }
      },
      "outputs": [
        {
          "output_type": "display_data",
          "data": {
            "text/plain": [
              "<Figure size 640x480 with 1 Axes>"
            ],
            "image/png": "[encoded data removed]"
          },
          "metadata": {}
        }
      ],
      "source": [
        "# Verificando graficamente\n",
        "fig, ax = plt.subplots()\n",
        "\n",
        "ax.scatter(X_train, y_train)\n",
        "ax.plot(valores_x,valores_y)\n",
        "ax.scatter(X_test,y_pred[:,1])\n",
        "\n",
        "ax.set(yticks=[0,1],xticks=[0,0.3,0.6,0.9,1.2,1.5])\n",
        "\n",
        "plt.show()"
      ],
      "id": "YF2UeH6MXLSI"
    },
    {
      "cell_type": "code",
      "execution_count": 22,
      "metadata": {
        "id": "Th_BGArhXLSI"
      },
      "outputs": [],
      "source": [
        "# E apenas a previsão\n",
        "y_pred_valor = clf.predict(X_test.reshape(-1,1))"
      ],
      "id": "Th_BGArhXLSI"
    },
    {
      "cell_type": "code",
      "execution_count": 23,
      "metadata": {
        "id": "rTjXGQYKXLSI",
        "outputId": "d1224c2b-60c1-4ae9-d426-4a103bf005a1",
        "colab": {
          "base_uri": "https://localhost:8080/"
        }
      },
      "outputs": [
        {
          "output_type": "execute_result",
          "data": {
            "text/plain": [
              "array([[19,  0],\n",
              "       [ 0, 14]])"
            ]
          },
          "metadata": {},
          "execution_count": 23
        }
      ],
      "source": [
        "# Avaliando o erro\n",
        "from sklearn.metrics import confusion_matrix\n",
        "confusion_matrix(y_test,y_pred_valor)"
      ],
      "id": "rTjXGQYKXLSI"
    },
    {
      "cell_type": "markdown",
      "metadata": {
        "id": "Zn6Goc0gXLSI"
      },
      "source": [
        "- **O caso binomial pode ser estendido para quantas classses quisermos, porém há um aumento na complexidade**\n",
        "    - https://scikit-learn.org/stable/modules/linear_model.html#binary-case\n",
        "- **Podemos considerar todos as classes e todas as colunas**"
      ],
      "id": "Zn6Goc0gXLSI"
    },
    {
      "cell_type": "code",
      "execution_count": 24,
      "metadata": {
        "id": "o4cMJcG3XLSI"
      },
      "outputs": [],
      "source": [
        "# Importando novamente o dataset\n",
        "from sklearn.datasets import load_iris\n",
        "X,y = load_iris(return_X_y = True, as_frame=True)"
      ],
      "id": "o4cMJcG3XLSI"
    },
    {
      "cell_type": "code",
      "execution_count": 25,
      "metadata": {
        "id": "zDI3Ns06XLSI"
      },
      "outputs": [],
      "source": [
        "# Separando em treino e teste\n",
        "X_train, X_test, y_train, y_test = train_test_split(X, y, test_size=0.33, random_state=42)"
      ],
      "id": "zDI3Ns06XLSI"
    },
    {
      "cell_type": "code",
      "execution_count": 26,
      "metadata": {
        "id": "UeSNuKpWXLSJ"
      },
      "outputs": [],
      "source": [
        "# Criando novamente o classificador\n",
        "clf2 = LogisticRegression(random_state=0,max_iter=1000).fit(X_train, y_train)"
      ],
      "id": "UeSNuKpWXLSJ"
    },
    {
      "cell_type": "code",
      "execution_count": 27,
      "metadata": {
        "id": "9IIp3kYeXLSJ",
        "outputId": "c162c27a-680e-40d0-86c0-2aec14cb091f",
        "colab": {
          "base_uri": "https://localhost:8080/"
        }
      },
      "outputs": [
        {
          "output_type": "execute_result",
          "data": {
            "text/plain": [
              "array([[-0.38854874,  0.85385235, -2.2449296 , -0.95238246],\n",
              "       [ 0.43789157, -0.36134207, -0.12373816, -0.77276803],\n",
              "       [-0.04934283, -0.49251029,  2.36866776,  1.72515049]])"
            ]
          },
          "metadata": {},
          "execution_count": 27
        }
      ],
      "source": [
        "# Verificando o coef_\n",
        "clf2.coef_"
      ],
      "id": "9IIp3kYeXLSJ"
    },
    {
      "cell_type": "code",
      "execution_count": 28,
      "metadata": {
        "id": "87OLXlbiXLSJ",
        "outputId": "bb001843-16c5-4520-92d2-a9de9d19f935",
        "colab": {
          "base_uri": "https://localhost:8080/"
        }
      },
      "outputs": [
        {
          "output_type": "execute_result",
          "data": {
            "text/plain": [
              "array([  8.69399193,   2.12547208, -10.81946401])"
            ]
          },
          "metadata": {},
          "execution_count": 28
        }
      ],
      "source": [
        "# e o intercept\n",
        "clf2.intercept_"
      ],
      "id": "87OLXlbiXLSJ"
    },
    {
      "cell_type": "code",
      "execution_count": 29,
      "metadata": {
        "id": "SBXmnNiOXLSJ"
      },
      "outputs": [],
      "source": [
        "# Fazendo a previsão das classes\n",
        "y_pred2 = clf2.predict(X_test)"
      ],
      "id": "SBXmnNiOXLSJ"
    },
    {
      "cell_type": "code",
      "execution_count": 30,
      "metadata": {
        "id": "xGtSR_ZMXLSJ",
        "outputId": "588cba26-866c-4311-e706-872f977b2d18",
        "colab": {
          "base_uri": "https://localhost:8080/"
        }
      },
      "outputs": [
        {
          "output_type": "execute_result",
          "data": {
            "text/plain": [
              "array([[19,  0,  0],\n",
              "       [ 0, 15,  0],\n",
              "       [ 0,  0, 16]])"
            ]
          },
          "metadata": {},
          "execution_count": 30
        }
      ],
      "source": [
        "# Avaliando o erro\n",
        "confusion_matrix(y_test,y_pred2)"
      ],
      "id": "xGtSR_ZMXLSJ"
    }
  ],
  "metadata": {
    "kernelspec": {
      "display_name": "Python 3",
      "language": "python",
      "name": "python3"
    },
    "language_info": {
      "codemirror_mode": {
        "name": "ipython",
        "version": 3
      },
      "file_extension": ".py",
      "mimetype": "text/x-python",
      "name": "python",
      "nbconvert_exporter": "python",
      "pygments_lexer": "ipython3",
      "version": "3.8.5"
    },
    "colab": {
      "provenance": []
    }
  },
  "nbformat": 4,
  "nbformat_minor": 5
}